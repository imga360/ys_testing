{
 "cells": [
  {
   "cell_type": "markdown",
   "id": "72f970c8",
   "metadata": {},
   "source": [
    "## 8/6 \n",
    "1. 用  nn 生出投影片(https://docs.google.com/presentation/d/145CfeG5cIpz4rV17pA5dxclZgSli1Z9LWQqKI25H-jI/edit#slide=id.g2bc9eeedc02_0_12) 所描述的 features\n",
    "2. 同時請教照霖可否按時抓pv \n"
   ]
  },
  {
   "cell_type": "markdown",
   "id": "f0e2f516",
   "metadata": {},
   "source": [
    "## 8/5\n",
    "### Use stratify to ensure the category distribution of the validation set reflects that of the training set:\n",
    "\n",
    "#### 實驗二: 使用 stratify 進行切割資料\n",
    "\n",
    "X_train, X_test, y_train, y_test = train_test_split(X, y, stratify=y)\n",
    "\n",
    "#### 查看訓練集三種類別比例\n",
    "\n",
    "pd.Series(y_train).value_counts(normalize=True)\n",
    "\n",
    "#### 查看測試集三種類別比例\n",
    "\n",
    "pd.Series(y_test).value_counts(normalize=True)\n",
    "\n",
    "\n",
    "### 確認一下我使用 standard scaler 的方式有無以下問題\n",
    "\n",
    "我們使用 fit() 方法在所有資料集 X 上做轉換，並使得轉換器學習每個特徵的整個分佈的平均值和標準差。這些資料轉換後如果再將這些數據拆分為訓練集和測試集，則訓練集會受到污染。因為 StandardScaler 從實際分佈中洩露了測試\n",
    "集重要訊息\n",
    "\n",
    "**即使切開後也不要再拿測試集呼叫 fit() 或 fit_transform()，這一樣會導致相同問題發生。**因為訓練集和測試集必須進行相同的轉換，依照官方的範例我們必須先使用 fit_transform() 在訓練集上進行擬合與轉換。**（YS：我想意思是，用訓練集的 SD 和 Mean 對測試集進行轉換）這**（YS：我想意思是，用訓練集的 SD 和 Mean 對測試集進行轉換）確保了轉換器僅從訓練集學習，從中找出參數例如平均值與變異數並同時對其進行變換。**接著使用 transform() 方法在測試資料上進行轉換，根據從訓練數據中學到的訊息進行轉換。**\n",
    "\n",
    "當你的模型**訓練集分數高於測試集的分數**，並且兩者都足夠高以滿足專案的目標期望時這代表你訓練了一個好模型。當訓練和測試分數差異很大時，問題往往與測試集有關而不是過度擬合。這時候你可能要**檢查資料預處理的方式是否一致 (像是取 log 或 scale)，或是只是忘記對測試集做轉換處理。**\n",
    "\n",
    "statified K-Fold:\n",
    "https://scikit-learn.org/stable/modules/generated/sklearn.model_selection.StratifiedKFold.html#sklearn.model_selection.StratifiedKFold\n",
    "\n",
    "沒有資料視覺化的習慣：有兩篇參考文\n",
    "\n",
    "**在預設的情況下所有 Sklearn 分類器在呼叫 score() 函數時都使用準確度作為評分方法。**由於準確率的計算方式簡單與容易理解，因此經常會看到初學者廣泛使用它來判斷其模型的性能。不幸的是**這種一般準確率的評估方式只對類別平衡的二元分類問題有用。**\n",
    "\n",
    "### 跑了 k-fold 能幹麻\n",
    "1. 因此訓練十回將會有十個不同驗證集的 Error，這個 Error 通常我們會稱作 loss 也就是模型評估方式。模型評估方式有很多種，以回歸問題來說就有 MSE、MAE、RMSE...等。最終**把這十次的 loss 加總起來取平均就可以當成最終結果。透過這種方式，不同分組訓練的結果進行平均來減少方差，因此模型的性能對數據的劃分就不會那麼敏感。**"
   ]
  },
  {
   "cell_type": "markdown",
   "id": "d26b517a",
   "metadata": {},
   "source": [
    "## 7/21  PV means 是否算一下標準差? 光看平均值有無意義"
   ]
  },
  {
   "cell_type": "markdown",
   "id": "4585d396",
   "metadata": {},
   "source": [
    "## 7/20 確定一下這樣算出的是「For each training, the most relevant historical」. First of all, why am I seeing only one index for each article while I selected the top 3? "
   ]
  },
  {
   "cell_type": "markdown",
   "id": "89fa0410",
   "metadata": {},
   "source": [
    "## 7/10 下午或 7/11 Add these 4 content-based features to the feature lists and revise the model\n",
    "\n",
    "## Also think how to make similarities more diverse\n",
    "(e.g. use true embeddings? Like those trained on Chinese wiki )"
   ]
  },
  {
   "cell_type": "markdown",
   "id": "c5731851",
   "metadata": {},
   "source": [
    "## 7/10 用「有/無某一tag」這樣算出來的similarity 只會有幾個值（i.e. 同樣 similarity 的文章很多），因此決定只取「最像」的那幾篇"
   ]
  },
  {
   "cell_type": "markdown",
   "id": "68a89f48",
   "metadata": {},
   "source": [
    "## 7/5 Tag reresented by embeddings and compared using KNN(?) rather than one-by-one for-loops\n"
   ]
  },
  {
   "cell_type": "markdown",
   "id": "8baa2a33",
   "metadata": {},
   "source": [
    "## 7/1 筆電版用 CUDA 跑"
   ]
  },
  {
   "cell_type": "markdown",
   "id": "af32aebb",
   "metadata": {},
   "source": [
    "## 6/28 注意：我有時是針對 50，有時是針對兩萬，且很多 \"else\" 都沒寫，要注意是否會造成問題"
   ]
  },
  {
   "cell_type": "markdown",
   "id": "b7e15367",
   "metadata": {},
   "source": [
    "## 6/27\n",
    "\n",
    "1. 檢驗一下 shared tags 和對應的標題是否搭配（以防shared tags 撈錯）"
   ]
  },
  {
   "cell_type": "markdown",
   "id": "7b4aec9c",
   "metadata": {},
   "source": [
    "## 6/24 \n",
    "\n",
    "1. Freshness: \n",
    "\n",
    "(i) Topic Intersection;\n",
    "\n",
    "=>\n",
    "\n",
    "a. （wf zl）用 title embedding，取過去半年\n",
    "\n",
    "b. 計算兩萬中的每一篇\n",
    "\n",
    "tags 和「半年 tags」重疊的程度\n",
    "\n",
    "和半年的 tags 重疊的那些 tags 在半年出現次數\n",
    "\n",
    "半年中最相似的文章 pv 如何\n",
    "\n",
    "[('總統大選', 565),\n",
    "\n",
    "c.embedding\n",
    "\n",
    "現成詞向量，目的是計算相似度\n",
    "\n",
    "import urllib.request\n",
    "\n",
    "url = 'https://dl.fbaipublicfiles.com/fasttext/vectors-wiki/wiki.zh.vec'\n",
    "\n",
    "urllib.request.urlretrieve(url, './wiki.zh.vec')\n",
    "\n",
    "\n",
    "(ii) Click count of 10 most similar articles;\n",
    "\n",
    "最像的 10 篇的 pv (0/1) 有助於預測這篇的 pv (0/1)\n",
    "\n",
    "(iii) Content similarity of 10 most similar articles; and \n",
    "\n",
    "(iv) Number of similar articles in the historical dataset\n",
    "\n",
    "2. Meta\n",
    "\n",
    "Reporter"
   ]
  },
  {
   "cell_type": "markdown",
   "id": "8dbb8b60",
   "metadata": {},
   "source": [
    "## 6/21\n",
    "\n",
    "1. 參考維吉尼亞的 freshness 作法，想想 tags 等要怎麼用（相關概念是「相似度」）"
   ]
  },
  {
   "cell_type": "markdown",
   "id": "94bc518b",
   "metadata": {},
   "source": [
    "## 6/19 \n",
    "1. Independent test set"
   ]
  },
  {
   "cell_type": "markdown",
   "id": "162409f3",
   "metadata": {},
   "source": [
    "## 6/18 \n",
    "\n",
    "1. 雖然我猜 RF 不會比 XGB 好，但還是可以試著 prune the forest\n",
    "\n",
    "2. 由 confusion matrix 看來，分「低組」、「高組」或許效果會還不錯？\n",
    "\n",
    "=>或是「高/不高」\n",
    "\n",
    "3. 但 feature importance 都這麼低，讓我有點不確定根本問題是不是出在 feature\n",
    "\n",
    "4.  6/18 拿大一點的資料來測，可驗證假設 \"2\" \n",
    "\n",
    "5. 用了兩萬筆後，部份資料「可能」需要重算\n",
    "\n",
    "reporter_NE Target_Encoding_reporter_NE    0.292985 1st \n",
    "\n",
    "ChatGPT_sensational 0.078411 4th \n",
    "\n",
    "ne_count 0.039516 9th\n",
    "\n",
    "hq_count\t0.020118 12th\n",
    "\n",
    "先產生ne，其他不確定值得"
   ]
  },
  {
   "cell_type": "markdown",
   "id": "5701d318",
   "metadata": {},
   "source": [
    "## 6/17\n",
    "\n",
    "Mine is a multinomial questions. Couple of things to note:\n",
    "\n",
    "For multiclass classification, XGBoost provides two objective functions:\n",
    "\n",
    "\n",
    "The original quality column contains values from 3 to 8, so we need to subtract the minimum value from this column to make it start from 0.\n",
    "\n",
    "from sklearn.model_selection import train_test_split\n",
    "\n",
    "\n",
    "There are many ways for measuring classification performance. Accuracy, confusion matrix, log-loss, and AUC-ROC are some of the most popular metrics. Precision-recall is a widely used metrics for classification problems.\n",
    "\n",
    "### Separate target variable\n",
    "X = data.drop('quality', axis=1)\n",
    "\n",
    "\n",
    "**y = data['quality'] - data['quality'].min()**\n",
    "\n",
    "### Split the data into training and test sets\n",
    "X_train, X_test, y_train, y_test = train_test_split(X, y, test_size=0.2, random_state=42)"
   ]
  },
  {
   "cell_type": "markdown",
   "id": "3a17ba28",
   "metadata": {},
   "source": [
    "## 6/15\n",
    "\n",
    "0. 除非特別處理，不然 XGBoost 的 y 似乎必須要是數字"
   ]
  },
  {
   "cell_type": "markdown",
   "id": "4021cf5c",
   "metadata": {},
   "source": [
    "## 6/14\n",
    "\n",
    "0 目前主要參考對象應該是**（用 pair plot 拿掉高度相關的 features）0605納入大多數欄位**\n",
    "\n",
    "（即XGBoost 比較有調過的版本）\n",
    "\n",
    "#### 1. Natural Log 還該做嗎？\n",
    "\n",
    "想像中，如果要做，應該是：\n",
    "\n",
    "step1:Remove outliers beyond specified 1st and 3rd quartiles\n",
    "\n",
    "step2:Do natural log\n",
    "\n",
    "step3: bin the natural-log-transformed y\n",
    "\n",
    "step4: predict the categories corresponding to different levels of natural-log-transformed ys.\n",
    "\n",
    "If I natural-log-transform y, ain't I training a model to predict \"natural-log-transformed\" ys, intead of actual y values? \n",
    "\n",
    "=>如要預測真正 y values，要把y 轉回未進行 natural log 的值 \n",
    "\n",
    "y_pred = np.exp(log_y_pred)\n",
    "\n",
    "但由於我的分數也是拿natural-log-transformed的 y_actual, y_pred 相比，應該沒有冤枉的問題\n",
    "\n",
    "#### 2. Score不是一切\n",
    "即使整體 score 不好，依然可以\n",
    "\n",
    "**強調部份類別的表現：**\n",
    "\n",
    " 6/14 very_high 的 precision 54%\n",
    " \n",
    "**改善部份類別的表現**\n",
    "\n",
    "如果發現某一類別被低估/過度認定，可調整其門檻。判斷前者可用 confusion matrix：\n",
    "\n",
    "from sklearn.metrics import confusion_matrix\n",
    "print(confusion_matrix(y_true, y_pred))\n",
    "\n",
    "門檻預設 0.5，但如果 FP/FN 過多，可調低/高\n",
    "\n",
    "\n",
    "#### 4. MSE 可能不能用\n",
    "\n",
    "目前用 classification report，但是否還需要有 loss (還是 loss 為 regression 專屬)\n",
    "\n",
    "#### 5. 這次用了不到 4,000 筆\n",
    "\n",
    "應該增加資料量\n",
    "\n",
    "### 6. Optimizer 可能也不宜用「val loss 是否增加」當標準了"
   ]
  },
  {
   "cell_type": "code",
   "execution_count": 1,
   "id": "fb7e6901",
   "metadata": {},
   "outputs": [],
   "source": [
    "# pip install pycuda"
   ]
  },
  {
   "cell_type": "code",
   "execution_count": 2,
   "id": "6f18b144",
   "metadata": {},
   "outputs": [],
   "source": [
    "import os\n",
    "import json\n",
    "import pandas as pd\n",
    "\n",
    "import numpy as np\n",
    "\n",
    "import re"
   ]
  },
  {
   "cell_type": "code",
   "execution_count": 3,
   "id": "fec9f5ed",
   "metadata": {},
   "outputs": [],
   "source": [
    "# %run feature_processing.ipynb"
   ]
  },
  {
   "cell_type": "code",
   "execution_count": 4,
   "id": "f533d714",
   "metadata": {
    "scrolled": true
   },
   "outputs": [],
   "source": [
    "important_20000=pd.read_csv('important_news_26424.csv',index_col=0)#有了 \"index_col=0\" 就不會多一排\"0\""
   ]
  },
  {
   "cell_type": "code",
   "execution_count": 5,
   "id": "de21674b",
   "metadata": {},
   "outputs": [
    {
     "data": {
      "text/plain": [
       "0                                     []\n",
       "0          ['國民黨', '2024選舉', '2024立委選舉']\n",
       "0                                     []\n",
       "0    ['蔣萬安', '陳其邁', '壽山動物園', '倉鼠', '影片']\n",
       "0                     ['役男', '憲兵', '鬥毆']\n",
       "Name: tags, dtype: object"
      ]
     },
     "execution_count": 5,
     "metadata": {},
     "output_type": "execute_result"
    }
   ],
   "source": [
    "important_20000['tags'].head()"
   ]
  },
  {
   "cell_type": "code",
   "execution_count": 6,
   "id": "46c64317",
   "metadata": {},
   "outputs": [],
   "source": [
    "def remove_non_word(item):\n",
    "    item=re.sub((\"'\"),'',item)\n",
    "    item=re.sub((\"\\[\"),'',item)\n",
    "    item=re.sub((\"\\]\"),'',item)\n",
    "    item=re.sub((\"\\\"\\\"\"),'',item)\n",
    "    return item"
   ]
  },
  {
   "cell_type": "code",
   "execution_count": 7,
   "id": "733d238e",
   "metadata": {},
   "outputs": [],
   "source": [
    "def get_all_df_tags(df):\n",
    "    #將['tag']中的tag 逐一取出，成為一包含整個df 所有 tags 的大串列\n",
    "    #注意，['tag']欄本身沒被動到，仍是 str\n",
    "    all_tags=[]\n",
    "    for i in range(len(df)):\n",
    "        splitted=df['tags'].iloc[i].split(', ')\n",
    "        for item in splitted:\n",
    "            item=remove_non_word(item)\n",
    "            all_tags.append(item)    \n",
    "    return all_tags"
   ]
  },
  {
   "cell_type": "code",
   "execution_count": 8,
   "id": "0d202b80",
   "metadata": {},
   "outputs": [],
   "source": [
    "important_news_6_months=pd.read_csv('important_news_6_months.csv')"
   ]
  },
  {
   "cell_type": "code",
   "execution_count": 9,
   "id": "1e4a5e81",
   "metadata": {},
   "outputs": [
    {
     "name": "stdout",
     "output_type": "stream",
     "text": [
      "訓練資料（2023-09-01~2024-02-29）有2218個 tags\n",
      "歷史資料（2023-03-01~2023-08-31）有2168個 tags\n",
      "訓練資料（2023-09-01~2024-02-29）前 10 個 tags:\n",
      "['', '國民黨', '2024選舉', '2024立委選舉', '蔣萬安', '陳其邁', '壽山動物園', '倉鼠', '影片', '役男']\n",
      "歷史資料（2023-03-01~2023-08-31）前 10 個 tags:\n",
      "['', '林佳龍', '林明溱', '南投', '柯文哲', '張麗善', '劉建國', '雲林', '二二八事件', '反恐']\n"
     ]
    }
   ],
   "source": [
    "important_20000_tags=list(dict.fromkeys(get_all_df_tags(important_20000)).keys())#unique tags\n",
    "important_news_6_months_tags=list(dict.fromkeys(get_all_df_tags(important_news_6_months)).keys())\n",
    "print(f\"訓練資料（2023-09-01~2024-02-29）有{len(important_20000_tags)}個 tags\")\n",
    "print(f\"歷史資料（2023-03-01~2023-08-31）有{len(important_news_6_months_tags)}個 tags\")\n",
    "print(f\"訓練資料（2023-09-01~2024-02-29）前 10 個 tags:\\n{important_20000_tags[:10]}\")\n",
    "print(f\"歷史資料（2023-03-01~2023-08-31）前 10 個 tags:\\n{important_news_6_months_tags[:10]}\")"
   ]
  },
  {
   "cell_type": "code",
   "execution_count": 10,
   "id": "865821cf",
   "metadata": {},
   "outputs": [],
   "source": [
    "## 拿掉歷史 tags 的 '' （歷史tags 會被拿來比對，怕 '' 會誤中訓練資料）\n",
    "\n",
    "del important_news_6_months_tags[0]"
   ]
  },
  {
   "cell_type": "code",
   "execution_count": 11,
   "id": "83d9c052",
   "metadata": {},
   "outputs": [],
   "source": [
    "def get_tag_from_cell(cell_string):\n",
    "    #將單一文章的tag 轉成串列，和 get_tag一樣，df沒變 \n",
    "    tag_list=[]\n",
    "    splitted=cell_string.split(', ')\n",
    "    for tag in splitted:\n",
    "        tag=remove_non_word(tag)\n",
    "        tag_list.append(tag)\n",
    "    return tag_list"
   ]
  },
  {
   "cell_type": "code",
   "execution_count": 12,
   "id": "a2b823b6",
   "metadata": {
    "scrolled": true
   },
   "outputs": [],
   "source": [
    "#將訓練資料的 ['tags'] 轉成 list\n",
    "important_20000.loc[:,'tags']=\\\n",
    "important_20000.loc[:,'tags'].apply(get_tag_from_cell)"
   ]
  },
  {
   "cell_type": "code",
   "execution_count": 13,
   "id": "0b6f2a9d",
   "metadata": {},
   "outputs": [
    {
     "name": "stdout",
     "output_type": "stream",
     "text": [
      "2024選舉\n"
     ]
    }
   ],
   "source": [
    "print(important_20000.iloc[1]['tags'][1])"
   ]
  },
  {
   "cell_type": "code",
   "execution_count": 14,
   "id": "cc8f3416",
   "metadata": {
    "scrolled": true
   },
   "outputs": [],
   "source": [
    "#將歷史資料的 ['tags'] 轉成 list\n",
    "important_news_6_months['tags']=\\\n",
    "important_news_6_months['tags'].apply(lambda x:get_tag_from_cell(x))"
   ]
  },
  {
   "cell_type": "markdown",
   "id": "0eaa8db5",
   "metadata": {},
   "source": [
    "## 7/15 Claude's Spare-Matrix Approach"
   ]
  },
  {
   "cell_type": "markdown",
   "id": "59dde46e",
   "metadata": {},
   "source": [
    "#### Issue：想要避開那些完全不包含歷史標籤的文章、不予排序，但要比對的 matrix 很大(26424, 21185)\n",
    "\n",
    "#### 兩大原則：\n",
    "\n",
    "1. 先不轉 dense （or 轉回 sparse?)\n",
    "\n",
    "2. 使用篩選 matrices 的函數（類似篩選 df 的函數）\n",
    "\n",
    "#### 總之，精神相同：不要用 for-loop"
   ]
  },
  {
   "cell_type": "code",
   "execution_count": 15,
   "id": "15101f30",
   "metadata": {},
   "outputs": [],
   "source": [
    "from scipy.sparse import csr_matrix"
   ]
  },
  {
   "cell_type": "markdown",
   "id": "1ee07abb",
   "metadata": {},
   "source": [
    "#### 儘管以下 create_sparse_matrix 也是兩萬多乘以avg_tag_list_len 的 for-loop、但 a) 僅檢驗有無在辭典，不在這個階段做任何兩個 matrix 的比較，因此很快跑完且 b) 由於 sparse_matrix 只記憶有值資料，之後的操作也快"
   ]
  },
  {
   "cell_type": "code",
   "execution_count": 16,
   "id": "6c3fd051",
   "metadata": {},
   "outputs": [],
   "source": [
    "def create_sparse_matrix(tag_lists,dictionary):#Note that the tag_lists here refer NOT to 0/1\n",
    "    rows,cols,data=[],[],[]\n",
    "    for i,tags in enumerate(tag_lists):\n",
    "        for tag in tags:\n",
    "            if tag in dictionary:\n",
    "                rows.append(i)#不是直接填到 matrix，感覺是給 csr_matrix 知道哪些列有東西\n",
    "                cols.append(dictionary[tag])#不是直接填到 matrix，感覺是給 csr_matrix 知道有哪些詞對中\n",
    "    data=np.ones(len(rows))#這才是填到 matrix的值，填那一格則視那一格對到\n",
    "    return csr_matrix((data,(rows,cols)),shape=(len(tag_lists),len(dictionary)))"
   ]
  },
  {
   "cell_type": "code",
   "execution_count": 17,
   "id": "0643ad0d",
   "metadata": {},
   "outputs": [
    {
     "data": {
      "text/plain": [
       "[[''], ['國民黨', '2024選舉', '2024立委選舉'], ['']]"
      ]
     },
     "execution_count": 17,
     "metadata": {},
     "output_type": "execute_result"
    }
   ],
   "source": [
    "important_20000['tags'].tolist()[:3]#第一筆是空的"
   ]
  },
  {
   "cell_type": "code",
   "execution_count": 18,
   "id": "14254f8b",
   "metadata": {},
   "outputs": [],
   "source": [
    "dictionary={value:index for index, value in enumerate(important_news_6_months_tags)}"
   ]
  },
  {
   "cell_type": "code",
   "execution_count": 19,
   "id": "9da5e225",
   "metadata": {},
   "outputs": [],
   "source": [
    "sparse_training=create_sparse_matrix\\\n",
    "(important_20000['tags'].tolist(),dictionary)\n",
    "sparse_historical=create_sparse_matrix\\\n",
    "(important_news_6_months['tags'].tolist(),dictionary)"
   ]
  },
  {
   "cell_type": "markdown",
   "id": "590a4d93",
   "metadata": {},
   "source": [
    "#### Shape 儘管和 dense 時相同，記憶負擔比較小"
   ]
  },
  {
   "cell_type": "code",
   "execution_count": 20,
   "id": "8c9fbed8",
   "metadata": {},
   "outputs": [],
   "source": [
    "np.savetxt('sparse_training.txt',csr_matrix(sparse_training).todense())"
   ]
  },
  {
   "cell_type": "code",
   "execution_count": 21,
   "id": "150e1492",
   "metadata": {},
   "outputs": [
    {
     "data": {
      "text/plain": [
       "(26424, 2167)"
      ]
     },
     "execution_count": 21,
     "metadata": {},
     "output_type": "execute_result"
    }
   ],
   "source": [
    "sparse_training.shape"
   ]
  },
  {
   "cell_type": "code",
   "execution_count": 22,
   "id": "184989c5",
   "metadata": {},
   "outputs": [
    {
     "data": {
      "text/plain": [
       "(21185, 2167)"
      ]
     },
     "execution_count": 22,
     "metadata": {},
     "output_type": "execute_result"
    }
   ],
   "source": [
    "sparse_historical.shape"
   ]
  },
  {
   "cell_type": "markdown",
   "id": "b8a3dd31",
   "metadata": {},
   "source": [
    "#### 除 sparse_matrix，相似度計算改用 numpy 函式計算，以C++(?) 為基底，比 for-loop 快得多"
   ]
  },
  {
   "cell_type": "code",
   "execution_count": 23,
   "id": "cef80702",
   "metadata": {},
   "outputs": [],
   "source": [
    "def jaccard_similarity(matrix1, matrix2):\n",
    "    # Convert to binary (presence/absence)\n",
    "    #numbers largr than 1 coverted to 1\n",
    "    binary1 = (matrix1 > 0).astype(int)\n",
    "    binary2 = (matrix2 > 0).astype(int)\n",
    "    \n",
    "    # Calculate Jaccard similarity\n",
    "    intersection = binary1.dot(binary2.T)\n",
    "    #YSQ 我想是這裡的順序（binary1先，binary2後）決定了最後的陣列是...\n",
    "    #...「每篇b1和所有b2的比較」\n",
    "    #YSQ:但我自己用 matrixes 去試，得到的 matrix 包含 b1, b2 沒有的成份，...\n",
    "    #...為何會說是 intersection 呢\n",
    "    \n",
    "    # Calculate union\n",
    "    sum1 = binary1.sum(axis=1)\n",
    "    sum2 = binary2.sum(axis=1)\n",
    "    union = sum1.reshape(-1, 1) + sum2.reshape(1, -1) - intersection\n",
    "    #Broadcasting provides a means of vectorizing array operations \n",
    "    #...so that looping occurs in C instead of Python\n",
    "    \n",
    "    #Convert intersection to dense matrices \n",
    "    #(a previous type error could've resulted from not having done this.)\n",
    "    intersection=intersection.toarray()\n",
    "    \n",
    "    # Avoid division by zero\n",
    "    with np.errstate(divide='ignore', invalid='ignore'):\n",
    "        similarity = np.divide(intersection, union)\n",
    "        similarity[union == 0] = 0  # Set similarity to 0 where union is 0\n",
    "    return similarity"
   ]
  },
  {
   "cell_type": "markdown",
   "id": "61105a3e",
   "metadata": {},
   "source": [
    "#### Identify training articles where none of the dictionary tags were found"
   ]
  },
  {
   "cell_type": "code",
   "execution_count": 24,
   "id": "f5679651",
   "metadata": {},
   "outputs": [
    {
     "name": "stdout",
     "output_type": "stream",
     "text": [
      "indices_of_rows_with_only_zeros_training:\n",
      "[    0     2     8 ... 26365 26375 26386]\n",
      "indices_of_rows_with_ones_training:\n",
      "[    1     3     4 ... 26421 26422 26423]\n"
     ]
    }
   ],
   "source": [
    "num_of_nz_per_row=sparse_training.getnnz(axis=1)\n",
    "#'Axis' applies to matrixes as well\n",
    "#Note that while csr_matrix() only stores non zeros, \n",
    "#...it's still possible to get zeros from it using getnz\n",
    "#Despite the name 'num_of_nz_per_row=sparse_training',...\n",
    "#...what's returned includes the indexes\n",
    "\n",
    "indices_of_rows_with_only_zeros_training=np.where(num_of_nz_per_row ==0)[0] #shape[0]是取index\n",
    "indices_of_rows_with_ones_training=np.where(num_of_nz_per_row !=0)[0]\n",
    "#\"np.where\" appears to be the matrix equivalent of df's 'apply' or 'loc'\n",
    "#However, the resulting datatype is 'tuple'\n",
    "\n",
    "print(f\"indices_of_rows_with_only_zeros_training:\\n{indices_of_rows_with_only_zeros_training}\")\n",
    "print(f\"indices_of_rows_with_ones_training:\\n{indices_of_rows_with_ones_training}\")"
   ]
  },
  {
   "cell_type": "code",
   "execution_count": 25,
   "id": "7825d83e",
   "metadata": {},
   "outputs": [],
   "source": [
    "# #由有1的文章形成的 matrix\n",
    "not_only_zero_training_matrix=\\\n",
    "sparse_training[indices_of_rows_with_ones_training]"
   ]
  },
  {
   "cell_type": "code",
   "execution_count": 26,
   "id": "983bfd43",
   "metadata": {},
   "outputs": [
    {
     "data": {
      "text/plain": [
       "23513"
      ]
     },
     "execution_count": 26,
     "metadata": {},
     "output_type": "execute_result"
    }
   ],
   "source": [
    "not_only_zero_training_matrix.shape[0]"
   ]
  },
  {
   "cell_type": "markdown",
   "id": "1caf0f64",
   "metadata": {},
   "source": [
    "#### 歷史資料每一行有幾個 1（如果有的話）"
   ]
  },
  {
   "cell_type": "code",
   "execution_count": 27,
   "id": "2caae373",
   "metadata": {},
   "outputs": [
    {
     "data": {
      "text/plain": [
       "19408"
      ]
     },
     "execution_count": 27,
     "metadata": {},
     "output_type": "execute_result"
    }
   ],
   "source": [
    "historical_num_of_nnz_per_row=sparse_historical.getnnz(axis=1)\n",
    "\n",
    "indices_of_rows_with_only_zeros_historical=\\\n",
    "np.where(historical_num_of_nnz_per_row==0)[0]\n",
    "indices_of_rows_with_ones_historical=\\\n",
    "np.where(historical_num_of_nnz_per_row!=0)[0]\n",
    "\n",
    "sparse_historical[np.where(historical_num_of_nnz_per_row !=0)].shape[0]"
   ]
  },
  {
   "cell_type": "code",
   "execution_count": 28,
   "id": "c18f03ae",
   "metadata": {},
   "outputs": [
    {
     "data": {
      "text/plain": [
       "(19408, 2167)"
      ]
     },
     "execution_count": 28,
     "metadata": {},
     "output_type": "execute_result"
    }
   ],
   "source": [
    "sparse_historical[np.where(historical_num_of_nnz_per_row != 0)].shape"
   ]
  },
  {
   "cell_type": "markdown",
   "id": "c0434caa",
   "metadata": {},
   "source": [
    "####  historical 有 tags 者共 19408 筆。試試看只用有 tags 者比對"
   ]
  },
  {
   "cell_type": "code",
   "execution_count": 29,
   "id": "5eb0436b",
   "metadata": {
    "scrolled": true
   },
   "outputs": [],
   "source": [
    "not_only_zero_historical_matrix=sparse_historical[np.where(historical_num_of_nnz_per_row !=0)]"
   ]
  },
  {
   "cell_type": "code",
   "execution_count": 30,
   "id": "2e740fa7",
   "metadata": {},
   "outputs": [],
   "source": [
    "similarity_between_historical_and_filtered_training=\\\n",
    "jaccard_similarity(not_only_zero_training_matrix, not_only_zero_historical_matrix)"
   ]
  },
  {
   "cell_type": "code",
   "execution_count": 31,
   "id": "58821df2",
   "metadata": {},
   "outputs": [
    {
     "data": {
      "text/plain": [
       "(23513, 19408)"
      ]
     },
     "execution_count": 31,
     "metadata": {},
     "output_type": "execute_result"
    }
   ],
   "source": [
    "similarity_between_historical_and_filtered_training.shape"
   ]
  },
  {
   "cell_type": "markdown",
   "id": "18b53301",
   "metadata": {},
   "source": [
    "## 以下這段 initialize a similarity matrix with zeros 的部份，因會造成比對時的錯位，後改成直接將similarity matrix用「包含 1 的  training* 包含 1 的 historical」定義"
   ]
  },
  {
   "cell_type": "markdown",
   "id": "4e1982b4",
   "metadata": {},
   "source": [
    "#### 以下是CG建議的「針對所選列＋欄」個別填值的 vectorized approach (後來放棄，因為一直出問題)"
   ]
  },
  {
   "cell_type": "code",
   "execution_count": 32,
   "id": "d92a99ad",
   "metadata": {},
   "outputs": [],
   "source": [
    "# #建立一個「相似度陣列」，預設值都填 0\n",
    "# similarity_matrix=\\\n",
    "#np.zeros((sparse_training.shape[0],sparse_historical.shape[0]))"
   ]
  },
  {
   "cell_type": "code",
   "execution_count": 33,
   "id": "8161d748",
   "metadata": {},
   "outputs": [],
   "source": [
    "# #CG建議的「針對所選列＋欄」個別填值的 vectorized approach\n",
    "\n",
    "# # Assuming similarity_between_historical_and_filtered_training\n",
    "#...and similarity_matrix are numpy arrays\n",
    "# # Create a meshgrid of indices for indices_of_rows_with_ones_training\n",
    "#...and indices_of_rows_with_ones_historical\n",
    "#... row_indices, col_indices = np.ix_(indices_of_rows_with_ones_training, indices_of_rows_with_ones_historical)\n",
    "\n",
    "# # Assign values from similarity_between_historical_and_filtered_training to similarity_matrix\n",
    "# similarity_matrix[row_indices, col_indices] = similarity_between_historical_and_filtered_training"
   ]
  },
  {
   "cell_type": "markdown",
   "id": "7cb6fd71",
   "metadata": {},
   "source": [
    "## 以下改將 similarity matrix 定義為「由含1的 training 和含 1 的 historical」所組成」\n",
    "#### 此 matrix 的索引值已經和原本的 sparse matrix 不同 （rows、cols 皆不同）"
   ]
  },
  {
   "cell_type": "code",
   "execution_count": 34,
   "id": "c631c7a4",
   "metadata": {},
   "outputs": [],
   "source": [
    "similarity_matrix=similarity_between_historical_and_filtered_training"
   ]
  },
  {
   "cell_type": "code",
   "execution_count": 35,
   "id": "610abb93",
   "metadata": {},
   "outputs": [
    {
     "data": {
      "text/plain": [
       "(23513, 19408)"
      ]
     },
     "execution_count": 35,
     "metadata": {},
     "output_type": "execute_result"
    }
   ],
   "source": [
    "similarity_matrix.shape"
   ]
  },
  {
   "cell_type": "code",
   "execution_count": 36,
   "id": "6d73cd41",
   "metadata": {},
   "outputs": [
    {
     "data": {
      "text/plain": [
       "matrix([[0.        , 0.        , 0.        , ..., 0.        , 0.        ,\n",
       "         0.125     ],\n",
       "        [0.        , 0.        , 0.        , ..., 0.        , 0.        ,\n",
       "         0.        ],\n",
       "        [0.        , 0.        , 0.        , ..., 0.        , 0.        ,\n",
       "         0.        ],\n",
       "        ...,\n",
       "        [0.        , 0.        , 0.        , ..., 0.        , 0.2       ,\n",
       "         0.16666667],\n",
       "        [0.        , 0.1       , 0.        , ..., 0.        , 0.07692308,\n",
       "         0.23076923],\n",
       "        [0.        , 0.        , 0.        , ..., 0.        , 0.        ,\n",
       "         0.33333333]])"
      ]
     },
     "execution_count": 36,
     "metadata": {},
     "output_type": "execute_result"
    }
   ],
   "source": [
    "similarity_matrix[:10,:]"
   ]
  },
  {
   "cell_type": "markdown",
   "id": "51184c04",
   "metadata": {},
   "source": [
    "#### 索引值相關計算（先找出索引，再找出對應similarity values）\n",
    "\n",
    "只挑相似度最高的三個\n",
    "要從「包含原始索引值的有1資料索引值」中，取出「針對有1資reindex」的索引值，才是原始資料的索引值"
   ]
  },
  {
   "cell_type": "code",
   "execution_count": 37,
   "id": "daa16baa",
   "metadata": {},
   "outputs": [],
   "source": [
    "# Find the most similar historical indexes\n",
    "filtered_most_similar_historical_indexes =\\\n",
    "np.argsort(similarity_matrix, axis=1)[:, -3:][:,::-1]"
   ]
  },
  {
   "cell_type": "markdown",
   "id": "1be3a22c",
   "metadata": {},
   "source": [
    "### 從索引值取得 similarity values: np.take_along_axis"
   ]
  },
  {
   "cell_type": "code",
   "execution_count": 38,
   "id": "11b22ceb",
   "metadata": {},
   "outputs": [],
   "source": [
    "# 從索引值取得 similarity values: np.take_along_axis\n",
    "highest_3_similarity_values =\\\n",
    "np.take_along_axis(similarity_matrix, filtered_most_similar_historical_indexes, axis=1)"
   ]
  },
  {
   "cell_type": "markdown",
   "id": "8a1ff409",
   "metadata": {},
   "source": [
    "#### Mapping the filtered indices back to the original ones "
   ]
  },
  {
   "cell_type": "code",
   "execution_count": 39,
   "id": "dd5a4450",
   "metadata": {},
   "outputs": [],
   "source": [
    "#### 先 map 訓練資料"
   ]
  },
  {
   "cell_type": "code",
   "execution_count": 40,
   "id": "64ff4e39",
   "metadata": {},
   "outputs": [],
   "source": [
    "#Create an empty matrix with default no-harm values, \n",
    "#...some of which to be replaced by ones\n",
    "full_size_similarity_values =\\\n",
    "np.full((sparse_training.shape[0], 3), -1, dtype=float)"
   ]
  },
  {
   "cell_type": "code",
   "execution_count": 41,
   "id": "0464797f",
   "metadata": {},
   "outputs": [],
   "source": [
    "full_size_similarity_values[indices_of_rows_with_ones_training]=\\\n",
    "highest_3_similarity_values"
   ]
  },
  {
   "cell_type": "code",
   "execution_count": 42,
   "id": "1fcaf51f",
   "metadata": {},
   "outputs": [
    {
     "data": {
      "text/plain": [
       "26424"
      ]
     },
     "execution_count": 42,
     "metadata": {},
     "output_type": "execute_result"
    }
   ],
   "source": [
    "full_size_similarity_values.shape[0]"
   ]
  },
  {
   "cell_type": "code",
   "execution_count": 43,
   "id": "ccdce108",
   "metadata": {},
   "outputs": [],
   "source": [
    "#### 再 map 歷史"
   ]
  },
  {
   "cell_type": "code",
   "execution_count": 44,
   "id": "0b728b2b",
   "metadata": {},
   "outputs": [],
   "source": [
    "# Map the filtered indices back to the original indices\n",
    "most_similar_historical_indexes =\\\n",
    "indices_of_rows_with_ones_historical[filtered_most_similar_historical_indexes]"
   ]
  },
  {
   "cell_type": "code",
   "execution_count": 45,
   "id": "1f063c82",
   "metadata": {},
   "outputs": [
    {
     "name": "stdout",
     "output_type": "stream",
     "text": [
      "[[   -1    -1    -1]\n",
      " [20176 18536 17913]\n",
      " [   -1    -1    -1]\n",
      " [ 4230 18487 18463]\n",
      " [ 1287  2358 18650]\n",
      " [20409 16144  1413]\n",
      " [10941  4807  7972]]\n"
     ]
    }
   ],
   "source": [
    "# Create a full-size result matrix initialized with -1\n",
    "# (or any value that's not a valid index)\n",
    "full_size_index_result = np.full((sparse_training.shape[0], 3), -1, dtype=int)\n",
    "\n",
    "#將索引依相似度排序，由高至低\n",
    "most_similar_historical_indexes=most_similar_historical_indexes[:,::-1]\n",
    "\n",
    "# Fill in the results for non-zero training rows\n",
    "full_size_index_result[indices_of_rows_with_ones_training] =\\\n",
    "most_similar_historical_indexes\n",
    "\n",
    "print(full_size_index_result[:7])"
   ]
  },
  {
   "cell_type": "code",
   "execution_count": 46,
   "id": "74ff2b77",
   "metadata": {},
   "outputs": [
    {
     "data": {
      "text/plain": [
       "array([[20176, 18536, 17913],\n",
       "       [ 4230, 18487, 18463],\n",
       "       [ 1287,  2358, 18650],\n",
       "       [20409, 16144,  1413],\n",
       "       [10941,  4807,  7972]], dtype=int64)"
      ]
     },
     "execution_count": 46,
     "metadata": {},
     "output_type": "execute_result"
    }
   ],
   "source": [
    "most_similar_historical_indexes[:5]"
   ]
  },
  {
   "cell_type": "code",
   "execution_count": 47,
   "id": "0b7a6fd8",
   "metadata": {},
   "outputs": [
    {
     "data": {
      "text/plain": [
       "26424"
      ]
     },
     "execution_count": 47,
     "metadata": {},
     "output_type": "execute_result"
    }
   ],
   "source": [
    "important_20000.shape[0]"
   ]
  },
  {
   "cell_type": "code",
   "execution_count": 48,
   "id": "15684eb3",
   "metadata": {},
   "outputs": [],
   "source": [
    "#最高三個相似值填入 df\n",
    "important_20000.loc[:,'highest_3_similarity']=\\\n",
    "full_size_similarity_values.tolist()"
   ]
  },
  {
   "cell_type": "code",
   "execution_count": 49,
   "id": "a1d813ff",
   "metadata": {
    "scrolled": true
   },
   "outputs": [],
   "source": [
    "important_20000['highest_3_similarity']=\\\n",
    "important_20000['highest_3_similarity'].apply(lambda x:np.round(x,2))\n",
    "\n",
    "#最高三個相似值平均填入 df\n",
    "\n",
    "important_20000.loc[:,'mean_similarity']=\\\n",
    "important_20000['highest_3_similarity'].apply(lambda x:np.round(np.mean(x),2))\n",
    "#'Apply' applies to elements of an iterable\n",
    "\n",
    "#最高三個相似值總和填入 df\n",
    "\n",
    "important_20000.loc[:,'similarity_sum']=\\\n",
    "important_20000['highest_3_similarity'].apply(lambda x:round(np.sum(x),2))"
   ]
  },
  {
   "cell_type": "markdown",
   "id": "82005d95",
   "metadata": {},
   "source": [
    "#### 找出 pv"
   ]
  },
  {
   "cell_type": "code",
   "execution_count": 50,
   "id": "7869b7e3",
   "metadata": {},
   "outputs": [],
   "source": [
    "#Find out unique members of a matrix\n",
    "#GFG(Geek for Geeks)\n",
    "\n",
    "# using numpy.unique() for checking unique values in matrix\n",
    "unique_historical_indexes_similar_to_some_training =\\\n",
    "np.unique(most_similar_historical_indexes).\\\n",
    "tolist()\n",
    "\n",
    "historical_pvs=important_news_6_months['pageview'].\\\n",
    "iloc[unique_historical_indexes_similar_to_some_training]"
   ]
  },
  {
   "cell_type": "code",
   "execution_count": 51,
   "id": "6ce69c1b",
   "metadata": {},
   "outputs": [],
   "source": [
    "#zip 的兩個 list 可直接轉 key:value，無須先轉list\n",
    "pv_dict={key:pv \\\n",
    "          for key,pv in \\\n",
    "         zip(unique_historical_indexes_similar_to_some_training,historical_pvs)}"
   ]
  },
  {
   "cell_type": "markdown",
   "id": "31e4ff34",
   "metadata": {},
   "source": [
    "#### 以下的 map() 用法有點複雜，有留html檔參考"
   ]
  },
  {
   "cell_type": "code",
   "execution_count": 52,
   "id": "82231796",
   "metadata": {},
   "outputs": [],
   "source": [
    "pv_matrix=np.array\\\n",
    "(list(map(lambda x:list(map(pv_dict.get,x)), \\\n",
    "          most_similar_historical_indexes)))\n",
    "#\"dictionary.get(key) \n",
    "#The inner map returns a list of values, while the outer "
   ]
  },
  {
   "cell_type": "markdown",
   "id": "89e5ec39",
   "metadata": {},
   "source": [
    "#### 把 pv_matrix 重新填入具有原 shape (26462) 的架構"
   ]
  },
  {
   "cell_type": "code",
   "execution_count": 53,
   "id": "cbdb9af0",
   "metadata": {},
   "outputs": [],
   "source": [
    "full_size_pv_matrix=\\\n",
    "np.full((sparse_training.shape[0],3),-1,dtype=float)\n",
    "# full_size_similarity_values =\\\n",
    "# np.full((sparse_training.shape[0], 3), -1, dtype=float)"
   ]
  },
  {
   "cell_type": "code",
   "execution_count": 54,
   "id": "99a1e866",
   "metadata": {},
   "outputs": [],
   "source": [
    "full_size_pv_matrix[indices_of_rows_with_ones_training]=pv_matrix"
   ]
  },
  {
   "cell_type": "code",
   "execution_count": 55,
   "id": "9b1e2790",
   "metadata": {},
   "outputs": [
    {
     "data": {
      "text/plain": [
       "array([[-1.0000e+00, -1.0000e+00, -1.0000e+00],\n",
       "       [ 1.6030e+03,  2.0190e+03,  5.8000e+01],\n",
       "       [-1.0000e+00, -1.0000e+00, -1.0000e+00],\n",
       "       [ 5.6100e+02,  2.6220e+03,  2.9860e+03],\n",
       "       [ 9.1790e+03,  2.2100e+02,  1.0900e+02],\n",
       "       [ 3.6300e+02,  6.3400e+02,  1.0800e+02],\n",
       "       [ 1.3383e+04,  2.7600e+02,  4.4830e+03],\n",
       "       [ 2.1000e+02,  1.6100e+04,  4.6206e+04],\n",
       "       [-1.0000e+00, -1.0000e+00, -1.0000e+00],\n",
       "       [ 6.2200e+03,  1.7675e+04,  3.1000e+03]])"
      ]
     },
     "execution_count": 55,
     "metadata": {},
     "output_type": "execute_result"
    }
   ],
   "source": [
    "full_size_pv_matrix[:10]"
   ]
  },
  {
   "cell_type": "code",
   "execution_count": 56,
   "id": "c65dfc10",
   "metadata": {},
   "outputs": [],
   "source": [
    "important_20000.loc[:,'pv_of_similar_historical']=full_size_pv_matrix.tolist()"
   ]
  },
  {
   "cell_type": "code",
   "execution_count": 57,
   "id": "3da1920b",
   "metadata": {
    "scrolled": true
   },
   "outputs": [
    {
     "name": "stderr",
     "output_type": "stream",
     "text": [
      "C:\\Users\\USER\\AppData\\Local\\Temp\\ipykernel_2316\\1319743018.py:3: SettingWithCopyWarning: \n",
      "A value is trying to be set on a copy of a slice from a DataFrame\n",
      "\n",
      "See the caveats in the documentation: https://pandas.pydata.org/pandas-docs/stable/user_guide/indexing.html#returning-a-view-versus-a-copy\n",
      "  important_20000['pv_of_similar_historical'].iloc[indices_of_rows_with_only_zeros_training]='NA'\n"
     ]
    }
   ],
   "source": [
    "#indices_of_rows_with_only_zeros_training\n",
    "#把 \"[1891, 1891, 1891]\" 取代為 NA\n",
    "important_20000['pv_of_similar_historical'].iloc[indices_of_rows_with_only_zeros_training]='NA'"
   ]
  },
  {
   "cell_type": "code",
   "execution_count": 58,
   "id": "02d8f602",
   "metadata": {
    "scrolled": true
   },
   "outputs": [
    {
     "data": {
      "text/plain": [
       "0                           NA\n",
       "0       [1603.0, 2019.0, 58.0]\n",
       "0                           NA\n",
       "0      [561.0, 2622.0, 2986.0]\n",
       "0       [9179.0, 221.0, 109.0]\n",
       "0        [363.0, 634.0, 108.0]\n",
       "0     [13383.0, 276.0, 4483.0]\n",
       "0    [210.0, 16100.0, 46206.0]\n",
       "0                           NA\n",
       "0    [6220.0, 17675.0, 3100.0]\n",
       "Name: pv_of_similar_historical, dtype: object"
      ]
     },
     "execution_count": 58,
     "metadata": {},
     "output_type": "execute_result"
    }
   ],
   "source": [
    "important_20000['pv_of_similar_historical'].iloc[:10]"
   ]
  },
  {
   "cell_type": "code",
   "execution_count": 59,
   "id": "5a1e7000",
   "metadata": {},
   "outputs": [],
   "source": [
    "#Sublists to arrays\n",
    "#pv_sublists_as_arrays\n",
    "\n",
    "important_20000.loc[:,'mean_pv']=\\\n",
    "[int(np.mean(np.array(sublist)))\\\n",
    " if 'NA' not in sublist else 'NA'\\\n",
    " for sublist in important_20000['pv_of_similar_historical']]"
   ]
  },
  {
   "cell_type": "code",
   "execution_count": 60,
   "id": "feb8940b",
   "metadata": {
    "scrolled": true
   },
   "outputs": [
    {
     "data": {
      "text/plain": [
       "0       NA\n",
       "0     1226\n",
       "0       NA\n",
       "0     2056\n",
       "0     3169\n",
       "0      368\n",
       "0     6047\n",
       "0    20838\n",
       "0       NA\n",
       "0     8998\n",
       "Name: mean_pv, dtype: object"
      ]
     },
     "execution_count": 60,
     "metadata": {},
     "output_type": "execute_result"
    }
   ],
   "source": [
    "important_20000['mean_pv'].iloc[:10]"
   ]
  },
  {
   "cell_type": "code",
   "execution_count": 61,
   "id": "33400af6",
   "metadata": {},
   "outputs": [],
   "source": [
    "important_20000.loc[:,'pv_sum']=\\\n",
    "[np.sum(sublist) if 'NA' not in sublist else 'NA' for sublist in important_20000['pv_of_similar_historical']]"
   ]
  },
  {
   "cell_type": "code",
   "execution_count": 62,
   "id": "5acb723e",
   "metadata": {},
   "outputs": [
    {
     "data": {
      "text/plain": [
       "Index(['channelId', 'articleId', 'articleType', 'reporter', 'authorId',\n",
       "       'headline', 'subHeadline', 'summary', 'sourceName', 'paperId',\n",
       "       'presentDate', 'insertTime', 'modifiedTime', 'providerId',\n",
       "       'instantNews', 'rid', 'porn', 'categoryId', 'upperCategoryId', 'status',\n",
       "       'weight', 'onlineTime', 'offlineTime', 'firstPublishTime',\n",
       "       'displayTime', 'publishTime', 'topPush', 'choice', 'pageview', 'body',\n",
       "       'articleURL', 'articleTypeName', 'categoryName', 'upperCategoryName',\n",
       "       'documentType', 'videoNumber', 'pictureNumber', 'tags',\n",
       "       'highest_3_similarity', 'mean_similarity', 'similarity_sum',\n",
       "       'pv_of_similar_historical', 'mean_pv', 'pv_sum'],\n",
       "      dtype='object')"
      ]
     },
     "execution_count": 62,
     "metadata": {},
     "output_type": "execute_result"
    }
   ],
   "source": [
    "important_20000.columns"
   ]
  },
  {
   "cell_type": "code",
   "execution_count": 63,
   "id": "082b218b",
   "metadata": {},
   "outputs": [],
   "source": [
    "#把 historical indexes 也變成 df 的新欄位\n",
    "full_size_index_result=full_size_index_result.tolist()\n",
    "important_20000.loc[:,'indexes_of_similar_historical']=full_size_index_result"
   ]
  },
  {
   "cell_type": "code",
   "execution_count": 64,
   "id": "8511e1e7",
   "metadata": {},
   "outputs": [
    {
     "data": {
      "text/plain": [
       "0             [-1, -1, -1]\n",
       "0    [20176, 18536, 17913]\n",
       "0             [-1, -1, -1]\n",
       "0     [4230, 18487, 18463]\n",
       "0      [1287, 2358, 18650]\n",
       "0     [20409, 16144, 1413]\n",
       "0      [10941, 4807, 7972]\n",
       "0       [3520, 3094, 2107]\n",
       "0             [-1, -1, -1]\n",
       "0    [20970, 20971, 21008]\n",
       "Name: indexes_of_similar_historical, dtype: object"
      ]
     },
     "execution_count": 64,
     "metadata": {},
     "output_type": "execute_result"
    }
   ],
   "source": [
    "important_20000['indexes_of_similar_historical'].iloc[:10]"
   ]
  },
  {
   "cell_type": "code",
   "execution_count": 65,
   "id": "8b60e252",
   "metadata": {},
   "outputs": [],
   "source": [
    "indexes_of_similar_historical_with_negative_ones=\\\n",
    "important_20000['indexes_of_similar_historical'].tolist()"
   ]
  },
  {
   "cell_type": "code",
   "execution_count": 66,
   "id": "533434cd",
   "metadata": {
    "scrolled": true
   },
   "outputs": [
    {
     "name": "stderr",
     "output_type": "stream",
     "text": [
      "C:\\Users\\USER\\AppData\\Local\\Temp\\ipykernel_2316\\171103860.py:2: SettingWithCopyWarning: \n",
      "A value is trying to be set on a copy of a slice from a DataFrame\n",
      "\n",
      "See the caveats in the documentation: https://pandas.pydata.org/pandas-docs/stable/user_guide/indexing.html#returning-a-view-versus-a-copy\n",
      "  important_20000['indexes_of_similar_historical'].iloc[indices_of_rows_with_only_zeros_training]='NA'\n"
     ]
    }
   ],
   "source": [
    "#把沒對中historical 的 indexes 取代為 'NA'\n",
    "important_20000['indexes_of_similar_historical'].iloc[indices_of_rows_with_only_zeros_training]='NA'"
   ]
  },
  {
   "cell_type": "code",
   "execution_count": 67,
   "id": "490f28ec",
   "metadata": {},
   "outputs": [
    {
     "data": {
      "text/plain": [
       "0                       NA\n",
       "0    [20176, 18536, 17913]\n",
       "0                       NA\n",
       "0     [4230, 18487, 18463]\n",
       "0      [1287, 2358, 18650]\n",
       "0     [20409, 16144, 1413]\n",
       "0      [10941, 4807, 7972]\n",
       "0       [3520, 3094, 2107]\n",
       "0                       NA\n",
       "0    [20970, 20971, 21008]\n",
       "Name: indexes_of_similar_historical, dtype: object"
      ]
     },
     "execution_count": 67,
     "metadata": {},
     "output_type": "execute_result"
    }
   ],
   "source": [
    "important_20000['indexes_of_similar_historical'].iloc[:10]"
   ]
  },
  {
   "cell_type": "code",
   "execution_count": 68,
   "id": "3ec78a9a",
   "metadata": {},
   "outputs": [
    {
     "data": {
      "text/html": [
       "<div>\n",
       "<style scoped>\n",
       "    .dataframe tbody tr th:only-of-type {\n",
       "        vertical-align: middle;\n",
       "    }\n",
       "\n",
       "    .dataframe tbody tr th {\n",
       "        vertical-align: top;\n",
       "    }\n",
       "\n",
       "    .dataframe thead th {\n",
       "        text-align: right;\n",
       "    }\n",
       "</style>\n",
       "<table border=\"1\" class=\"dataframe\">\n",
       "  <thead>\n",
       "    <tr style=\"text-align: right;\">\n",
       "      <th></th>\n",
       "      <th>pv_of_similar_historical</th>\n",
       "      <th>mean_pv</th>\n",
       "      <th>pv_sum</th>\n",
       "      <th>highest_3_similarity</th>\n",
       "      <th>mean_similarity</th>\n",
       "      <th>similarity_sum</th>\n",
       "    </tr>\n",
       "  </thead>\n",
       "  <tbody>\n",
       "    <tr>\n",
       "      <th>0</th>\n",
       "      <td>NA</td>\n",
       "      <td>NA</td>\n",
       "      <td>NA</td>\n",
       "      <td>[-1.0, -1.0, -1.0]</td>\n",
       "      <td>-1.00</td>\n",
       "      <td>-3.00</td>\n",
       "    </tr>\n",
       "    <tr>\n",
       "      <th>0</th>\n",
       "      <td>[1603.0, 2019.0, 58.0]</td>\n",
       "      <td>1226</td>\n",
       "      <td>3680.0</td>\n",
       "      <td>[1.0, 0.75, 0.75]</td>\n",
       "      <td>0.83</td>\n",
       "      <td>2.50</td>\n",
       "    </tr>\n",
       "    <tr>\n",
       "      <th>0</th>\n",
       "      <td>NA</td>\n",
       "      <td>NA</td>\n",
       "      <td>NA</td>\n",
       "      <td>[-1.0, -1.0, -1.0]</td>\n",
       "      <td>-1.00</td>\n",
       "      <td>-3.00</td>\n",
       "    </tr>\n",
       "    <tr>\n",
       "      <th>0</th>\n",
       "      <td>[561.0, 2622.0, 2986.0]</td>\n",
       "      <td>2056</td>\n",
       "      <td>6169.0</td>\n",
       "      <td>[0.67, 0.5, 0.33]</td>\n",
       "      <td>0.50</td>\n",
       "      <td>1.50</td>\n",
       "    </tr>\n",
       "    <tr>\n",
       "      <th>0</th>\n",
       "      <td>[9179.0, 221.0, 109.0]</td>\n",
       "      <td>3169</td>\n",
       "      <td>9509.0</td>\n",
       "      <td>[0.33, 0.33, 0.25]</td>\n",
       "      <td>0.30</td>\n",
       "      <td>0.91</td>\n",
       "    </tr>\n",
       "    <tr>\n",
       "      <th>0</th>\n",
       "      <td>[363.0, 634.0, 108.0]</td>\n",
       "      <td>368</td>\n",
       "      <td>1105.0</td>\n",
       "      <td>[0.4, 0.4, 0.33]</td>\n",
       "      <td>0.38</td>\n",
       "      <td>1.13</td>\n",
       "    </tr>\n",
       "    <tr>\n",
       "      <th>0</th>\n",
       "      <td>[13383.0, 276.0, 4483.0]</td>\n",
       "      <td>6047</td>\n",
       "      <td>18142.0</td>\n",
       "      <td>[0.33, 0.33, 0.33]</td>\n",
       "      <td>0.33</td>\n",
       "      <td>0.99</td>\n",
       "    </tr>\n",
       "    <tr>\n",
       "      <th>0</th>\n",
       "      <td>[210.0, 16100.0, 46206.0]</td>\n",
       "      <td>20838</td>\n",
       "      <td>62516.0</td>\n",
       "      <td>[0.5, 0.4, 0.25]</td>\n",
       "      <td>0.38</td>\n",
       "      <td>1.15</td>\n",
       "    </tr>\n",
       "    <tr>\n",
       "      <th>0</th>\n",
       "      <td>NA</td>\n",
       "      <td>NA</td>\n",
       "      <td>NA</td>\n",
       "      <td>[-1.0, -1.0, -1.0]</td>\n",
       "      <td>-1.00</td>\n",
       "      <td>-3.00</td>\n",
       "    </tr>\n",
       "    <tr>\n",
       "      <th>0</th>\n",
       "      <td>[6220.0, 17675.0, 3100.0]</td>\n",
       "      <td>8998</td>\n",
       "      <td>26995.0</td>\n",
       "      <td>[0.75, 0.62, 0.56]</td>\n",
       "      <td>0.64</td>\n",
       "      <td>1.93</td>\n",
       "    </tr>\n",
       "  </tbody>\n",
       "</table>\n",
       "</div>"
      ],
      "text/plain": [
       "    pv_of_similar_historical mean_pv   pv_sum highest_3_similarity  \\\n",
       "0                         NA      NA       NA   [-1.0, -1.0, -1.0]   \n",
       "0     [1603.0, 2019.0, 58.0]    1226   3680.0    [1.0, 0.75, 0.75]   \n",
       "0                         NA      NA       NA   [-1.0, -1.0, -1.0]   \n",
       "0    [561.0, 2622.0, 2986.0]    2056   6169.0    [0.67, 0.5, 0.33]   \n",
       "0     [9179.0, 221.0, 109.0]    3169   9509.0   [0.33, 0.33, 0.25]   \n",
       "0      [363.0, 634.0, 108.0]     368   1105.0     [0.4, 0.4, 0.33]   \n",
       "0   [13383.0, 276.0, 4483.0]    6047  18142.0   [0.33, 0.33, 0.33]   \n",
       "0  [210.0, 16100.0, 46206.0]   20838  62516.0     [0.5, 0.4, 0.25]   \n",
       "0                         NA      NA       NA   [-1.0, -1.0, -1.0]   \n",
       "0  [6220.0, 17675.0, 3100.0]    8998  26995.0   [0.75, 0.62, 0.56]   \n",
       "\n",
       "   mean_similarity  similarity_sum  \n",
       "0            -1.00           -3.00  \n",
       "0             0.83            2.50  \n",
       "0            -1.00           -3.00  \n",
       "0             0.50            1.50  \n",
       "0             0.30            0.91  \n",
       "0             0.38            1.13  \n",
       "0             0.33            0.99  \n",
       "0             0.38            1.15  \n",
       "0            -1.00           -3.00  \n",
       "0             0.64            1.93  "
      ]
     },
     "execution_count": 68,
     "metadata": {},
     "output_type": "execute_result"
    }
   ],
   "source": [
    "important_20000[['pv_of_similar_historical', 'mean_pv', 'pv_sum',\n",
    "      'highest_3_similarity',\n",
    "       'mean_similarity', 'similarity_sum']].iloc[:10]"
   ]
  },
  {
   "cell_type": "code",
   "execution_count": 69,
   "id": "2e63ea20",
   "metadata": {},
   "outputs": [
    {
     "data": {
      "image/png": "[encoded data removed]",
      "text/plain": [
       "<Figure size 640x480 with 1 Axes>"
      ]
     },
     "metadata": {},
     "output_type": "display_data"
    }
   ],
   "source": [
    "from matplotlib import pyplot as plt\n",
    "import seaborn as sns\n",
    "\n",
    "plt.hist(important_20000['pageview'],bins=150)\n",
    "plt.show()"
   ]
  },
  {
   "cell_type": "markdown",
   "id": "7ef46b58",
   "metadata": {},
   "source": [
    "## UDN 新聞資料庫原始 json 合併而成的檔案，印出為 csv 檔"
   ]
  },
  {
   "cell_type": "code",
   "execution_count": 70,
   "id": "510a0ca9",
   "metadata": {},
   "outputs": [],
   "source": [
    "important_20000.to_csv('original_json_converted_20000.csv')"
   ]
  },
  {
   "cell_type": "code",
   "execution_count": 71,
   "id": "a0e79330",
   "metadata": {},
   "outputs": [],
   "source": [
    "#新增 pv和驚嘆號有無關係\n",
    "\n",
    "important_20000.loc[:,'has_exclaimation']=important_20000['headline']\\\n",
    ".str.contains('！')\n",
    "\n",
    "important_20000.loc[:,'has_exclaimation']=\\\n",
    "important_20000['has_exclaimation'].apply(lambda x:1 if x==True else 0)"
   ]
  },
  {
   "cell_type": "code",
   "execution_count": 72,
   "id": "82c89d96",
   "metadata": {},
   "outputs": [],
   "source": [
    "%run feature_processing.ipynb"
   ]
  },
  {
   "cell_type": "code",
   "execution_count": 73,
   "id": "bc80d26c",
   "metadata": {},
   "outputs": [],
   "source": [
    "#pv和長度有無關係\n",
    "\n",
    "#新增 headline_len\n",
    "important_20000.loc[:,'headline_len']=important_20000['headline'].apply\\\n",
    "(lambda x:len_without_space(x))"
   ]
  },
  {
   "cell_type": "code",
   "execution_count": 74,
   "id": "9cd8178d",
   "metadata": {
    "scrolled": true
   },
   "outputs": [
    {
     "data": {
      "text/plain": [
       "Index(['channelId', 'articleId', 'articleType', 'reporter', 'authorId',\n",
       "       'headline', 'subHeadline', 'summary', 'sourceName', 'paperId',\n",
       "       'presentDate', 'insertTime', 'modifiedTime', 'providerId',\n",
       "       'instantNews', 'rid', 'porn', 'categoryId', 'upperCategoryId', 'status',\n",
       "       'weight', 'onlineTime', 'offlineTime', 'firstPublishTime',\n",
       "       'displayTime', 'publishTime', 'topPush', 'choice', 'pageview', 'body',\n",
       "       'articleURL', 'articleTypeName', 'categoryName', 'upperCategoryName',\n",
       "       'documentType', 'videoNumber', 'pictureNumber', 'tags',\n",
       "       'highest_3_similarity', 'mean_similarity', 'similarity_sum',\n",
       "       'pv_of_similar_historical', 'mean_pv', 'pv_sum',\n",
       "       'indexes_of_similar_historical', 'has_exclaimation', 'headline_len'],\n",
       "      dtype='object')"
      ]
     },
     "execution_count": 74,
     "metadata": {},
     "output_type": "execute_result"
    }
   ],
   "source": [
    "important_20000.columns"
   ]
  },
  {
   "cell_type": "code",
   "execution_count": 75,
   "id": "2b884fd0",
   "metadata": {},
   "outputs": [
    {
     "name": "stdout",
     "output_type": "stream",
     "text": [
      "<class 'pandas.core.frame.DataFrame'>\n",
      "Int64Index: 26424 entries, 0 to 0\n",
      "Data columns (total 47 columns):\n",
      " #   Column                         Non-Null Count  Dtype  \n",
      "---  ------                         --------------  -----  \n",
      " 0   channelId                      26424 non-null  int64  \n",
      " 1   articleId                      26424 non-null  int64  \n",
      " 2   articleType                    26424 non-null  int64  \n",
      " 3   reporter                       26424 non-null  object \n",
      " 4   authorId                       26424 non-null  int64  \n",
      " 5   headline                       26424 non-null  object \n",
      " 6   subHeadline                    3753 non-null   object \n",
      " 7   summary                        26152 non-null  object \n",
      " 8   sourceName                     26424 non-null  object \n",
      " 9   paperId                        26424 non-null  int64  \n",
      " 10  presentDate                    26424 non-null  object \n",
      " 11  insertTime                     26424 non-null  object \n",
      " 12  modifiedTime                   26392 non-null  object \n",
      " 13  providerId                     26424 non-null  int64  \n",
      " 14  instantNews                    26424 non-null  object \n",
      " 15  rid                            24353 non-null  object \n",
      " 16  porn                           26424 non-null  object \n",
      " 17  categoryId                     26424 non-null  int64  \n",
      " 18  upperCategoryId                26424 non-null  int64  \n",
      " 19  status                         26424 non-null  int64  \n",
      " 20  weight                         26424 non-null  int64  \n",
      " 21  onlineTime                     26424 non-null  object \n",
      " 22  offlineTime                    26424 non-null  object \n",
      " 23  firstPublishTime               26424 non-null  object \n",
      " 24  displayTime                    26424 non-null  object \n",
      " 25  publishTime                    26424 non-null  object \n",
      " 26  topPush                        26102 non-null  object \n",
      " 27  choice                         26087 non-null  object \n",
      " 28  pageview                       26424 non-null  int64  \n",
      " 29  body                           26424 non-null  object \n",
      " 30  articleURL                     26424 non-null  object \n",
      " 31  articleTypeName                26424 non-null  object \n",
      " 32  categoryName                   26424 non-null  object \n",
      " 33  upperCategoryName              26424 non-null  object \n",
      " 34  documentType                   26424 non-null  int64  \n",
      " 35  videoNumber                    26424 non-null  int64  \n",
      " 36  pictureNumber                  26424 non-null  int64  \n",
      " 37  tags                           26424 non-null  object \n",
      " 38  highest_3_similarity           26424 non-null  object \n",
      " 39  mean_similarity                26424 non-null  float64\n",
      " 40  similarity_sum                 26424 non-null  float64\n",
      " 41  pv_of_similar_historical       26424 non-null  object \n",
      " 42  mean_pv                        26424 non-null  object \n",
      " 43  pv_sum                         26424 non-null  object \n",
      " 44  indexes_of_similar_historical  26424 non-null  object \n",
      " 45  has_exclaimation               26424 non-null  int64  \n",
      " 46  headline_len                   26424 non-null  int64  \n",
      "dtypes: float64(2), int64(16), object(29)\n",
      "memory usage: 9.7+ MB\n"
     ]
    }
   ],
   "source": [
    "important_20000.info()"
   ]
  },
  {
   "cell_type": "markdown",
   "id": "6942e920",
   "metadata": {},
   "source": [
    "**subHeadline        4938  應刪除**\n",
    "\n",
    "**modifiedTime       5221  應刪除** \n",
    "\n",
    "**topPush            5060  應補 \"Y\"**\n",
    "\n",
    "**choice             5056  應補 \"Y\"**"
   ]
  },
  {
   "cell_type": "markdown",
   "id": "2434c809",
   "metadata": {},
   "source": [
    "## 6/18 reporter'' 請庭豪跑NE"
   ]
  },
  {
   "cell_type": "code",
   "execution_count": 76,
   "id": "3642d0ab",
   "metadata": {
    "scrolled": true
   },
   "outputs": [
    {
     "name": "stdout",
     "output_type": "stream",
     "text": [
      "             reporter                     reporter_NE\n",
      "0                綜合整理                           no ne\n",
      "1                綜合報導                           no ne\n",
      "2              聯合報數位版                           no ne\n",
      "3          記者洪子凱／台北報導                      PERSON_洪子凱\n",
      "4  記者洪哲政、呂慧瑜、李宗祐／連線報導  PERSON_洪哲政PERSON_呂慧瑜PERSON_李宗祐\n"
     ]
    }
   ],
   "source": [
    "reporter_ne_df=pd.read_excel('(兩萬筆) reporter_to_label_NE.ods',engine='odf')\n",
    "reporter_ne_df=reporter_ne_df.fillna('no ne')\n",
    "print(reporter_ne_df.head())"
   ]
  },
  {
   "cell_type": "markdown",
   "id": "0f6aaf72",
   "metadata": {},
   "source": [
    "## 6/24 起，新增記者名"
   ]
  },
  {
   "cell_type": "code",
   "execution_count": 77,
   "id": "f432538f",
   "metadata": {},
   "outputs": [],
   "source": [
    "reporter_ne_df.loc[:,'reporter_ne_count']=\\\n",
    "reporter_ne_df['reporter_NE'].apply(lambda x:len(re.findall('_',x)))"
   ]
  },
  {
   "cell_type": "code",
   "execution_count": 78,
   "id": "8f89c708",
   "metadata": {},
   "outputs": [
    {
     "data": {
      "text/plain": [
       "0    0\n",
       "1    0\n",
       "2    0\n",
       "3    1\n",
       "4    3\n",
       "Name: reporter_ne_count, dtype: int64"
      ]
     },
     "execution_count": 78,
     "metadata": {},
     "output_type": "execute_result"
    }
   ],
   "source": [
    "reporter_ne_df['reporter_ne_count'].head()"
   ]
  },
  {
   "cell_type": "code",
   "execution_count": 79,
   "id": "f23377a1",
   "metadata": {},
   "outputs": [
    {
     "data": {
      "text/plain": [
       "0                             no ne\n",
       "1                             no ne\n",
       "2                             no ne\n",
       "3                        PERSON_洪子凱\n",
       "4    PERSON_洪哲政PERSON_呂慧瑜PERSON_李宗祐\n",
       "Name: reporter_NE, dtype: object"
      ]
     },
     "execution_count": 79,
     "metadata": {},
     "output_type": "execute_result"
    }
   ],
   "source": [
    "reporter_ne_df['reporter_NE'].head()"
   ]
  },
  {
   "cell_type": "code",
   "execution_count": 80,
   "id": "32fd43cd",
   "metadata": {},
   "outputs": [],
   "source": [
    "reporter_ne_df.to_csv('reporter_ne_20000.csv')"
   ]
  },
  {
   "cell_type": "code",
   "execution_count": 81,
   "id": "f7fc5072",
   "metadata": {},
   "outputs": [],
   "source": [
    "# 先把沒有 topPush choice  的空白補上 \"Y\"\n",
    "\n",
    "important_20000['topPush']=important_20000['topPush'].fillna(\"Y\")\n",
    "important_20000['choice']=important_20000['choice'].fillna(\"Y\")"
   ]
  },
  {
   "cell_type": "code",
   "execution_count": 82,
   "id": "5ce36664",
   "metadata": {},
   "outputs": [
    {
     "name": "stdout",
     "output_type": "stream",
     "text": [
      "<class 'pandas.core.frame.DataFrame'>\n",
      "Int64Index: 26424 entries, 0 to 0\n",
      "Data columns (total 47 columns):\n",
      " #   Column                         Non-Null Count  Dtype  \n",
      "---  ------                         --------------  -----  \n",
      " 0   channelId                      26424 non-null  int64  \n",
      " 1   articleId                      26424 non-null  int64  \n",
      " 2   articleType                    26424 non-null  int64  \n",
      " 3   reporter                       26424 non-null  object \n",
      " 4   authorId                       26424 non-null  int64  \n",
      " 5   headline                       26424 non-null  object \n",
      " 6   subHeadline                    3753 non-null   object \n",
      " 7   summary                        26152 non-null  object \n",
      " 8   sourceName                     26424 non-null  object \n",
      " 9   paperId                        26424 non-null  int64  \n",
      " 10  presentDate                    26424 non-null  object \n",
      " 11  insertTime                     26424 non-null  object \n",
      " 12  modifiedTime                   26392 non-null  object \n",
      " 13  providerId                     26424 non-null  int64  \n",
      " 14  instantNews                    26424 non-null  object \n",
      " 15  rid                            24353 non-null  object \n",
      " 16  porn                           26424 non-null  object \n",
      " 17  categoryId                     26424 non-null  int64  \n",
      " 18  upperCategoryId                26424 non-null  int64  \n",
      " 19  status                         26424 non-null  int64  \n",
      " 20  weight                         26424 non-null  int64  \n",
      " 21  onlineTime                     26424 non-null  object \n",
      " 22  offlineTime                    26424 non-null  object \n",
      " 23  firstPublishTime               26424 non-null  object \n",
      " 24  displayTime                    26424 non-null  object \n",
      " 25  publishTime                    26424 non-null  object \n",
      " 26  topPush                        26424 non-null  object \n",
      " 27  choice                         26424 non-null  object \n",
      " 28  pageview                       26424 non-null  int64  \n",
      " 29  body                           26424 non-null  object \n",
      " 30  articleURL                     26424 non-null  object \n",
      " 31  articleTypeName                26424 non-null  object \n",
      " 32  categoryName                   26424 non-null  object \n",
      " 33  upperCategoryName              26424 non-null  object \n",
      " 34  documentType                   26424 non-null  int64  \n",
      " 35  videoNumber                    26424 non-null  int64  \n",
      " 36  pictureNumber                  26424 non-null  int64  \n",
      " 37  tags                           26424 non-null  object \n",
      " 38  highest_3_similarity           26424 non-null  object \n",
      " 39  mean_similarity                26424 non-null  float64\n",
      " 40  similarity_sum                 26424 non-null  float64\n",
      " 41  pv_of_similar_historical       26424 non-null  object \n",
      " 42  mean_pv                        26424 non-null  object \n",
      " 43  pv_sum                         26424 non-null  object \n",
      " 44  indexes_of_similar_historical  26424 non-null  object \n",
      " 45  has_exclaimation               26424 non-null  int64  \n",
      " 46  headline_len                   26424 non-null  int64  \n",
      "dtypes: float64(2), int64(16), object(29)\n",
      "memory usage: 9.7+ MB\n"
     ]
    }
   ],
   "source": [
    "important_20000.info()"
   ]
  },
  {
   "cell_type": "markdown",
   "id": "ccd1e90c",
   "metadata": {},
   "source": [
    "## 在還沒刪掉任何一列的情況下，合併兩個檔案"
   ]
  },
  {
   "cell_type": "code",
   "execution_count": 83,
   "id": "1eddfb75",
   "metadata": {},
   "outputs": [],
   "source": [
    "important_20000=important_20000.reset_index()\n",
    "reporter_ne_df=reporter_ne_df.reset_index()\n",
    "important_20000=pd.concat([important_20000,reporter_ne_df],axis=1,ignore_index=False)"
   ]
  },
  {
   "cell_type": "code",
   "execution_count": 84,
   "id": "7014652a",
   "metadata": {},
   "outputs": [
    {
     "name": "stdout",
     "output_type": "stream",
     "text": [
      "<class 'pandas.core.frame.DataFrame'>\n",
      "RangeIndex: 26424 entries, 0 to 26423\n",
      "Data columns (total 52 columns):\n",
      " #   Column                         Non-Null Count  Dtype  \n",
      "---  ------                         --------------  -----  \n",
      " 0   index                          26424 non-null  int64  \n",
      " 1   channelId                      26424 non-null  int64  \n",
      " 2   articleId                      26424 non-null  int64  \n",
      " 3   articleType                    26424 non-null  int64  \n",
      " 4   reporter                       26424 non-null  object \n",
      " 5   authorId                       26424 non-null  int64  \n",
      " 6   headline                       26424 non-null  object \n",
      " 7   subHeadline                    3753 non-null   object \n",
      " 8   summary                        26152 non-null  object \n",
      " 9   sourceName                     26424 non-null  object \n",
      " 10  paperId                        26424 non-null  int64  \n",
      " 11  presentDate                    26424 non-null  object \n",
      " 12  insertTime                     26424 non-null  object \n",
      " 13  modifiedTime                   26392 non-null  object \n",
      " 14  providerId                     26424 non-null  int64  \n",
      " 15  instantNews                    26424 non-null  object \n",
      " 16  rid                            24353 non-null  object \n",
      " 17  porn                           26424 non-null  object \n",
      " 18  categoryId                     26424 non-null  int64  \n",
      " 19  upperCategoryId                26424 non-null  int64  \n",
      " 20  status                         26424 non-null  int64  \n",
      " 21  weight                         26424 non-null  int64  \n",
      " 22  onlineTime                     26424 non-null  object \n",
      " 23  offlineTime                    26424 non-null  object \n",
      " 24  firstPublishTime               26424 non-null  object \n",
      " 25  displayTime                    26424 non-null  object \n",
      " 26  publishTime                    26424 non-null  object \n",
      " 27  topPush                        26424 non-null  object \n",
      " 28  choice                         26424 non-null  object \n",
      " 29  pageview                       26424 non-null  int64  \n",
      " 30  body                           26424 non-null  object \n",
      " 31  articleURL                     26424 non-null  object \n",
      " 32  articleTypeName                26424 non-null  object \n",
      " 33  categoryName                   26424 non-null  object \n",
      " 34  upperCategoryName              26424 non-null  object \n",
      " 35  documentType                   26424 non-null  int64  \n",
      " 36  videoNumber                    26424 non-null  int64  \n",
      " 37  pictureNumber                  26424 non-null  int64  \n",
      " 38  tags                           26424 non-null  object \n",
      " 39  highest_3_similarity           26424 non-null  object \n",
      " 40  mean_similarity                26424 non-null  float64\n",
      " 41  similarity_sum                 26424 non-null  float64\n",
      " 42  pv_of_similar_historical       26424 non-null  object \n",
      " 43  mean_pv                        26424 non-null  object \n",
      " 44  pv_sum                         26424 non-null  object \n",
      " 45  indexes_of_similar_historical  26424 non-null  object \n",
      " 46  has_exclaimation               26424 non-null  int64  \n",
      " 47  headline_len                   26424 non-null  int64  \n",
      " 48  index                          26424 non-null  int64  \n",
      " 49  reporter                       26424 non-null  object \n",
      " 50  reporter_NE                    26424 non-null  object \n",
      " 51  reporter_ne_count              26424 non-null  int64  \n",
      "dtypes: float64(2), int64(19), object(31)\n",
      "memory usage: 10.5+ MB\n"
     ]
    }
   ],
   "source": [
    "important_20000.info()"
   ]
  },
  {
   "cell_type": "markdown",
   "id": "e0cf3701",
   "metadata": {},
   "source": [
    " ## 評估有 NaN 的欄位是否值得為他拿掉一整列\n",
    " \n",
    " 6   subHeadline          575 non-null    object  不值得\n",
    " \n",
    " 7   summary              5168 non-null   object  不值得\n",
    " \n",
    " 12  modifiedTime         5221 non-null   object  不值得\n",
    " \n",
    " 15  rid                  4775 non-null   object  不值得\n",
    " \n",
    " 39  reporter_NE          3995 non-null   object  值得"
   ]
  },
  {
   "cell_type": "markdown",
   "id": "cae38996",
   "metadata": {},
   "source": [
    "### 7/31 真要拿掉 reporter_ne? 先看看它長怎樣吧"
   ]
  },
  {
   "cell_type": "code",
   "execution_count": 85,
   "id": "08bb8cf5",
   "metadata": {
    "scrolled": true
   },
   "outputs": [
    {
     "data": {
      "text/plain": [
       "0                                      no ne\n",
       "1                                      no ne\n",
       "2                                      no ne\n",
       "3                                 PERSON_洪子凱\n",
       "4             PERSON_洪哲政PERSON_呂慧瑜PERSON_李宗祐\n",
       "5             PERSON_鄭媁PERSON_歐陽良盈PERSON_王燕華\n",
       "6             PERSON_曾健祐PERSON_蔣永佑PERSON_林孟潔\n",
       "7                                 PERSON_周辰陽\n",
       "8             PERSON_彭宣雅PERSON_王勇超PERSON_任義宇\n",
       "9    PERSON_鄭媁PERSON_許政榆PERSON_林琮恩PERSON_葉冠妤\n",
       "Name: reporter_NE, dtype: object"
      ]
     },
     "execution_count": 85,
     "metadata": {},
     "output_type": "execute_result"
    }
   ],
   "source": [
    "important_20000['reporter_NE'].iloc[:10]"
   ]
  },
  {
   "cell_type": "code",
   "execution_count": 86,
   "id": "0343cbe4",
   "metadata": {},
   "outputs": [
    {
     "data": {
      "text/plain": [
       "0    0\n",
       "1    0\n",
       "2    0\n",
       "3    1\n",
       "4    3\n",
       "5    3\n",
       "6    3\n",
       "7    1\n",
       "8    3\n",
       "9    4\n",
       "Name: reporter_ne_count, dtype: int64"
      ]
     },
     "execution_count": 86,
     "metadata": {},
     "output_type": "execute_result"
    }
   ],
   "source": [
    "important_20000['reporter_ne_count'].iloc[:10]"
   ]
  },
  {
   "cell_type": "markdown",
   "id": "22336d2b",
   "metadata": {},
   "source": [
    "### 7/31 雖然有考慮過拿掉 reporter_ne，但最後沒拿，只是沒納入 features"
   ]
  },
  {
   "cell_type": "code",
   "execution_count": 87,
   "id": "3a3055ab",
   "metadata": {},
   "outputs": [],
   "source": [
    "important_20000=\\\n",
    "important_20000.drop(columns=['subHeadline','summary','modifiedTime','rid'])\n",
    "\n",
    "#df = df.drop(columns=['gender'])"
   ]
  },
  {
   "cell_type": "code",
   "execution_count": 88,
   "id": "1ee0da4a",
   "metadata": {},
   "outputs": [
    {
     "name": "stdout",
     "output_type": "stream",
     "text": [
      "<class 'pandas.core.frame.DataFrame'>\n",
      "RangeIndex: 26424 entries, 0 to 26423\n",
      "Data columns (total 48 columns):\n",
      " #   Column                         Non-Null Count  Dtype  \n",
      "---  ------                         --------------  -----  \n",
      " 0   index                          26424 non-null  int64  \n",
      " 1   channelId                      26424 non-null  int64  \n",
      " 2   articleId                      26424 non-null  int64  \n",
      " 3   articleType                    26424 non-null  int64  \n",
      " 4   reporter                       26424 non-null  object \n",
      " 5   authorId                       26424 non-null  int64  \n",
      " 6   headline                       26424 non-null  object \n",
      " 7   sourceName                     26424 non-null  object \n",
      " 8   paperId                        26424 non-null  int64  \n",
      " 9   presentDate                    26424 non-null  object \n",
      " 10  insertTime                     26424 non-null  object \n",
      " 11  providerId                     26424 non-null  int64  \n",
      " 12  instantNews                    26424 non-null  object \n",
      " 13  porn                           26424 non-null  object \n",
      " 14  categoryId                     26424 non-null  int64  \n",
      " 15  upperCategoryId                26424 non-null  int64  \n",
      " 16  status                         26424 non-null  int64  \n",
      " 17  weight                         26424 non-null  int64  \n",
      " 18  onlineTime                     26424 non-null  object \n",
      " 19  offlineTime                    26424 non-null  object \n",
      " 20  firstPublishTime               26424 non-null  object \n",
      " 21  displayTime                    26424 non-null  object \n",
      " 22  publishTime                    26424 non-null  object \n",
      " 23  topPush                        26424 non-null  object \n",
      " 24  choice                         26424 non-null  object \n",
      " 25  pageview                       26424 non-null  int64  \n",
      " 26  body                           26424 non-null  object \n",
      " 27  articleURL                     26424 non-null  object \n",
      " 28  articleTypeName                26424 non-null  object \n",
      " 29  categoryName                   26424 non-null  object \n",
      " 30  upperCategoryName              26424 non-null  object \n",
      " 31  documentType                   26424 non-null  int64  \n",
      " 32  videoNumber                    26424 non-null  int64  \n",
      " 33  pictureNumber                  26424 non-null  int64  \n",
      " 34  tags                           26424 non-null  object \n",
      " 35  highest_3_similarity           26424 non-null  object \n",
      " 36  mean_similarity                26424 non-null  float64\n",
      " 37  similarity_sum                 26424 non-null  float64\n",
      " 38  pv_of_similar_historical       26424 non-null  object \n",
      " 39  mean_pv                        26424 non-null  object \n",
      " 40  pv_sum                         26424 non-null  object \n",
      " 41  indexes_of_similar_historical  26424 non-null  object \n",
      " 42  has_exclaimation               26424 non-null  int64  \n",
      " 43  headline_len                   26424 non-null  int64  \n",
      " 44  index                          26424 non-null  int64  \n",
      " 45  reporter                       26424 non-null  object \n",
      " 46  reporter_NE                    26424 non-null  object \n",
      " 47  reporter_ne_count              26424 non-null  int64  \n",
      "dtypes: float64(2), int64(19), object(27)\n",
      "memory usage: 9.7+ MB\n"
     ]
    }
   ],
   "source": [
    "important_20000=important_20000.dropna()\n",
    "important_20000.info()"
   ]
  },
  {
   "cell_type": "markdown",
   "id": "13dd61b6",
   "metadata": {},
   "source": [
    "## 列數部份現在就差 y 值還未去除 outlier 了"
   ]
  },
  {
   "cell_type": "code",
   "execution_count": 89,
   "id": "c9af3d9a",
   "metadata": {},
   "outputs": [
    {
     "name": "stdout",
     "output_type": "stream",
     "text": [
      "2023/09/06 11:30:00\n"
     ]
    }
   ],
   "source": [
    "from datetime import datetime\n",
    "from datetime import timedelta\n",
    "from pandas import Timestamp\n",
    "\n",
    "#6/13 先貼個 display 的樣本：2024/2/14 1:24 AM\n",
    "type(important_20000['displayTime'].iloc[2])\n",
    "\n",
    "important_20000.loc[:,'displayTime']=\\\n",
    "important_20000['displayTime'].apply(add_zero)\n",
    "\n",
    "print(important_20000['displayTime'].iloc[2])"
   ]
  },
  {
   "cell_type": "code",
   "execution_count": 90,
   "id": "7b2378e3",
   "metadata": {
    "scrolled": true
   },
   "outputs": [
    {
     "name": "stdout",
     "output_type": "stream",
     "text": [
      "2023/11/05T13:00:00\n",
      "<class 'str'>\n",
      "bins:[datetime.timedelta(0), datetime.timedelta(seconds=7200), datetime.timedelta(seconds=14400), datetime.timedelta(seconds=21600), datetime.timedelta(seconds=28800), datetime.timedelta(seconds=36000), datetime.timedelta(seconds=43200), datetime.timedelta(seconds=50400), datetime.timedelta(seconds=57600), datetime.timedelta(seconds=64800), datetime.timedelta(seconds=72000), datetime.timedelta(seconds=79200), datetime.timedelta(seconds=86399)]\n"
     ]
    }
   ],
   "source": [
    "#新欄位：日期\n",
    "important_20000.loc[:,'date']=important_20000['displayTime']\\\n",
    ".apply(lambda x:x[:10])\n",
    "\n",
    "#新欄位：時間\n",
    "important_20000.loc[:,'time']=important_20000['displayTime']\\\n",
    ".apply(lambda x:x[10:])\n",
    "\n",
    "#新欄位：日期＋T+時間（i.e. datetime 可吃格式）\n",
    "\n",
    "important_20000.loc[:,'converted_display_time']=important_20000['date'].apply\\\n",
    "(lambda x:x+'T')\n",
    "\n",
    "important_20000['converted_display_time']=\\\n",
    "important_20000['converted_display_time']+\\\n",
    "important_20000['time']\n",
    "\n",
    "important_20000['converted_display_time']=\\\n",
    "important_20000['converted_display_time'].\\\n",
    "apply(remove_space)\n",
    "\n",
    "\n",
    "#6/13 加上秒數，以符合 ISO 格式\n",
    "# important_20000['converted_display_time']=\\\n",
    "# important_20000['converted_display_time'].apply(lambda x:x+':00')\n",
    "\n",
    "#轉成iso format\n",
    "# important_20000['converted_display_time']=\\\n",
    "# important_20000['converted_display_time'].apply(lambda x:isoformat())\n",
    "\n",
    "print(important_20000['converted_display_time'].iloc[1])\n",
    "print(type(important_20000['converted_display_time'].iloc[1]))\n",
    "\n",
    "#轉成 datetime 格式#6/13 目的是可取出其中的 accessor 'date' 和 'time'\n",
    "important_20000['converted_display_time']=\\\n",
    "important_20000['converted_display_time'].apply\\\n",
    "(lambda x:datetime.strptime(x,'%Y/%m/%dT%H:%M:%S'))\n",
    "\n",
    "# time欄位轉為 datetime.time\n",
    "\n",
    "important_20000['time']=important_20000['time'].apply(remove_space)\n",
    "\n",
    "important_20000['time']=\\\n",
    "pd.to_datetime(important_20000['time']).dt.time \n",
    "#dt as \"accessor\", e.g. \"str\" in Series.str.contains()\n",
    "\n",
    "#4/30 datetime.time 再轉成 datetime.delta (Assuming 'time' column is in datetime.time format)\n",
    "#因為 bins 和 time(被切分者)的資料類型必須相同 (以下也會把 bins 轉成 timedelta)\n",
    "\n",
    "important_20000['time_delta']=important_20000['time'].apply\\\n",
    "(lambda x:timedelta(hours=x.hour,minutes=x.minute,seconds=x.second))\n",
    "\n",
    "    \n",
    "#分幾個時段\n",
    "\"\"\"time_strings=['00:00:00','04:00:00','08:00:00',\\\n",
    "                     '12:00:00','16:00:00','20:00:00','23:59:59']\n",
    "\"\"\"\n",
    "\n",
    "time_strings=['00:00:00','02:00:00','04:00:00','06:00:00','08:00:00',\\\n",
    "                     '10:00:00','12:00:00','14:00:00','16:00:00','18:00:00',\\\n",
    "              '20:00:00','22:00:00','23:59:59']\n",
    "\n",
    "#To avoid incorporating date into bins while feeding pd.cut() with date-included times\n",
    "bins=[timedelta(hours=int(t.split(':')[0]),\\\n",
    "                minutes=int(t.split(':')[1]),\\\n",
    "                seconds=int(t.split(':')[2])) \\\n",
    "      for t in time_strings]\n",
    "\n",
    "print(f\"bins:{bins}\")\n",
    "\n",
    "labels=[1,2,3,4,5,6,7,8,9,10,11,12]\n",
    "\n",
    "#4/30 CG's revision: feed datetimes with dates to pd.cut()\n",
    "important_20000['timespans'] = pd.cut(important_20000['time_delta'],\n",
    "                                         bins=bins,\n",
    "                                         labels=labels,\n",
    "                                         right=False,\n",
    "                                         include_lowest=True)\n",
    "\n",
    "\n",
    "# # print(f\"important_20000['converted_display_time'] 長這樣:\\n\\\n",
    "# # {important_20000['converted_display_time'].head()}\")\n",
    "# # print(f\"important_20000['converted_display_time'] 的 type:\\n\\\n",
    "# # {type(important_20000['converted_display_time'].iloc[0])}\")\n",
    "\n",
    "# # print(f\" bins 長這樣:\\n\\\n",
    "# # {bins}\")# YSQ: Looks weird\n",
    "# # print(f\" bins的 type:\\n\\\n",
    "# # {type(bins[0])}\")\n",
    "\n",
    "#新欄位：星期幾\n",
    "important_20000.loc[:,'Day_of_Week']=\\\n",
    "important_20000['converted_display_time'].apply(lambda x: x.date().isoweekday())"
   ]
  },
  {
   "cell_type": "code",
   "execution_count": 91,
   "id": "3f32b90e",
   "metadata": {},
   "outputs": [
    {
     "name": "stdout",
     "output_type": "stream",
     "text": [
      "<class 'pandas.core.frame.DataFrame'>\n",
      "RangeIndex: 26424 entries, 0 to 26423\n",
      "Data columns (total 54 columns):\n",
      " #   Column                         Non-Null Count  Dtype          \n",
      "---  ------                         --------------  -----          \n",
      " 0   index                          26424 non-null  int64          \n",
      " 1   channelId                      26424 non-null  int64          \n",
      " 2   articleId                      26424 non-null  int64          \n",
      " 3   articleType                    26424 non-null  int64          \n",
      " 4   reporter                       26424 non-null  object         \n",
      " 5   authorId                       26424 non-null  int64          \n",
      " 6   headline                       26424 non-null  object         \n",
      " 7   sourceName                     26424 non-null  object         \n",
      " 8   paperId                        26424 non-null  int64          \n",
      " 9   presentDate                    26424 non-null  object         \n",
      " 10  insertTime                     26424 non-null  object         \n",
      " 11  providerId                     26424 non-null  int64          \n",
      " 12  instantNews                    26424 non-null  object         \n",
      " 13  porn                           26424 non-null  object         \n",
      " 14  categoryId                     26424 non-null  int64          \n",
      " 15  upperCategoryId                26424 non-null  int64          \n",
      " 16  status                         26424 non-null  int64          \n",
      " 17  weight                         26424 non-null  int64          \n",
      " 18  onlineTime                     26424 non-null  object         \n",
      " 19  offlineTime                    26424 non-null  object         \n",
      " 20  firstPublishTime               26424 non-null  object         \n",
      " 21  displayTime                    26424 non-null  object         \n",
      " 22  publishTime                    26424 non-null  object         \n",
      " 23  topPush                        26424 non-null  object         \n",
      " 24  choice                         26424 non-null  object         \n",
      " 25  pageview                       26424 non-null  int64          \n",
      " 26  body                           26424 non-null  object         \n",
      " 27  articleURL                     26424 non-null  object         \n",
      " 28  articleTypeName                26424 non-null  object         \n",
      " 29  categoryName                   26424 non-null  object         \n",
      " 30  upperCategoryName              26424 non-null  object         \n",
      " 31  documentType                   26424 non-null  int64          \n",
      " 32  videoNumber                    26424 non-null  int64          \n",
      " 33  pictureNumber                  26424 non-null  int64          \n",
      " 34  tags                           26424 non-null  object         \n",
      " 35  highest_3_similarity           26424 non-null  object         \n",
      " 36  mean_similarity                26424 non-null  float64        \n",
      " 37  similarity_sum                 26424 non-null  float64        \n",
      " 38  pv_of_similar_historical       26424 non-null  object         \n",
      " 39  mean_pv                        26424 non-null  object         \n",
      " 40  pv_sum                         26424 non-null  object         \n",
      " 41  indexes_of_similar_historical  26424 non-null  object         \n",
      " 42  has_exclaimation               26424 non-null  int64          \n",
      " 43  headline_len                   26424 non-null  int64          \n",
      " 44  index                          26424 non-null  int64          \n",
      " 45  reporter                       26424 non-null  object         \n",
      " 46  reporter_NE                    26424 non-null  object         \n",
      " 47  reporter_ne_count              26424 non-null  int64          \n",
      " 48  date                           26424 non-null  object         \n",
      " 49  time                           26424 non-null  object         \n",
      " 50  converted_display_time         26424 non-null  datetime64[ns] \n",
      " 51  time_delta                     26424 non-null  timedelta64[ns]\n",
      " 52  timespans                      26424 non-null  category       \n",
      " 53  Day_of_Week                    26424 non-null  int64          \n",
      "dtypes: category(1), datetime64[ns](1), float64(2), int64(20), object(29), timedelta64[ns](1)\n",
      "memory usage: 10.7+ MB\n"
     ]
    }
   ],
   "source": [
    "important_20000.info()"
   ]
  },
  {
   "cell_type": "markdown",
   "id": "dd865861",
   "metadata": {},
   "source": [
    "#### 拿掉 y 的 outlier 前，先確認 pageview 的分佈"
   ]
  },
  {
   "cell_type": "code",
   "execution_count": 92,
   "id": "9432561f",
   "metadata": {},
   "outputs": [
    {
     "data": {
      "text/plain": [
       "count    2.642400e+04\n",
       "mean     6.010214e+03\n",
       "std      2.574618e+04\n",
       "min      0.000000e+00\n",
       "25%      4.290000e+02\n",
       "50%      1.262000e+03\n",
       "75%      4.497250e+03\n",
       "max      2.963936e+06\n",
       "Name: pageview, dtype: float64"
      ]
     },
     "execution_count": 92,
     "metadata": {},
     "output_type": "execute_result"
    }
   ],
   "source": [
    "important_20000['pageview'].describe()"
   ]
  },
  {
   "cell_type": "code",
   "execution_count": 93,
   "id": "4ed8cb13",
   "metadata": {},
   "outputs": [
    {
     "data": {
      "text/plain": [
       "(91.0, 25119.149999999943)"
      ]
     },
     "execution_count": 93,
     "metadata": {},
     "output_type": "execute_result"
    }
   ],
   "source": [
    "determine_outlier_thresholds_iqr(important_20000['pageview'])"
   ]
  },
  {
   "cell_type": "code",
   "execution_count": 94,
   "id": "d99a6872",
   "metadata": {},
   "outputs": [],
   "source": [
    "important_20000.loc[:,'pageview_trimmed']=\\\n",
    "important_20000['pageview'].apply\\\n",
    "(lambda x:x>=91 and x<=25119)"
   ]
  },
  {
   "cell_type": "code",
   "execution_count": 95,
   "id": "9cf953bd",
   "metadata": {},
   "outputs": [
    {
     "data": {
      "text/plain": [
       "True     23786\n",
       "False     2638\n",
       "Name: pageview_trimmed, dtype: int64"
      ]
     },
     "execution_count": 95,
     "metadata": {},
     "output_type": "execute_result"
    }
   ],
   "source": [
    "important_20000['pageview_trimmed'].value_counts()"
   ]
  },
  {
   "cell_type": "markdown",
   "id": "38118e60",
   "metadata": {},
   "source": [
    "### 關於y 的 outlier以上是兩頭剪掉"
   ]
  },
  {
   "cell_type": "code",
   "execution_count": 96,
   "id": "d7fbec19",
   "metadata": {},
   "outputs": [],
   "source": [
    "important_20000=\\\n",
    "important_20000.loc[(important_20000.pageview_trimmed)]"
   ]
  },
  {
   "cell_type": "code",
   "execution_count": 97,
   "id": "e10fa821",
   "metadata": {},
   "outputs": [
    {
     "data": {
      "text/plain": [
       "23786"
      ]
     },
     "execution_count": 97,
     "metadata": {},
     "output_type": "execute_result"
    }
   ],
   "source": [
    "len(important_20000)"
   ]
  },
  {
   "cell_type": "code",
   "execution_count": 98,
   "id": "c6c75b7a",
   "metadata": {},
   "outputs": [
    {
     "data": {
      "text/plain": [
       "count    23786.000000\n",
       "mean      3256.010763\n",
       "std       4615.788268\n",
       "min         91.000000\n",
       "25%        476.000000\n",
       "50%       1262.000000\n",
       "75%       3909.000000\n",
       "max      25086.000000\n",
       "Name: pageview, dtype: float64"
      ]
     },
     "execution_count": 98,
     "metadata": {},
     "output_type": "execute_result"
    }
   ],
   "source": [
    "important_20000['pageview'].describe()"
   ]
  },
  {
   "cell_type": "code",
   "execution_count": 99,
   "id": "b1d41324",
   "metadata": {},
   "outputs": [
    {
     "data": {
      "image/png": "[encoded data removed]",
      "text/plain": [
       "<Figure size 640x480 with 1 Axes>"
      ]
     },
     "metadata": {},
     "output_type": "display_data"
    }
   ],
   "source": [
    "plt.hist(important_20000['pageview'],bins=150)\n",
    "plt.show()"
   ]
  },
  {
   "cell_type": "markdown",
   "id": "76fc8e6c",
   "metadata": {},
   "source": [
    "## （old）之前想將pageview分成數個級別，但後來決定只用 binary"
   ]
  },
  {
   "cell_type": "code",
   "execution_count": 100,
   "id": "7f55f99c",
   "metadata": {},
   "outputs": [],
   "source": [
    "quartile1 ,quartile2, quartile3=classifify_pv(important_20000['pageview'])"
   ]
  },
  {
   "cell_type": "code",
   "execution_count": 101,
   "id": "5a6e92ec",
   "metadata": {},
   "outputs": [
    {
     "name": "stdout",
     "output_type": "stream",
     "text": [
      "quartile1:476.0\n",
      "quartile2:1262.0\n",
      "quartile3:3909.0\n"
     ]
    }
   ],
   "source": [
    "print(f\"quartile1:{quartile1}\\nquartile2:{quartile2}\\nquartile3:{quartile3}\")"
   ]
  },
  {
   "cell_type": "markdown",
   "id": "2139425f",
   "metadata": {},
   "source": [
    "### 改採 binary classification"
   ]
  },
  {
   "cell_type": "code",
   "execution_count": 102,
   "id": "0a64f826",
   "metadata": {},
   "outputs": [],
   "source": [
    "## （old）Median 為 1501 的版本\n",
    "\n",
    "# bins=[0,1501,3000000]\n",
    "# # labels=['low','average','high','very_high']\n",
    "# labels=[0,1]\n",
    "\n",
    "# important_20000['pageview_level']=\\\n",
    "# pd.cut(important_20000['pageview'],bins=bins,labels=labels,right=False,include_lowest=True)"
   ]
  },
  {
   "cell_type": "code",
   "execution_count": 103,
   "id": "85962fdf",
   "metadata": {},
   "outputs": [],
   "source": [
    "# Median 為 1262 的版本\n",
    "\n",
    "bins=[0,1262,3000000]\n",
    "labels=[0,1]\n",
    "\n",
    "important_20000['pageview_level']=\\\n",
    "pd.cut(important_20000['pageview'],bins=bins,labels=labels,right=False,include_lowest=True)"
   ]
  },
  {
   "cell_type": "code",
   "execution_count": 104,
   "id": "312e3515",
   "metadata": {},
   "outputs": [
    {
     "data": {
      "text/html": [
       "<div>\n",
       "<style scoped>\n",
       "    .dataframe tbody tr th:only-of-type {\n",
       "        vertical-align: middle;\n",
       "    }\n",
       "\n",
       "    .dataframe tbody tr th {\n",
       "        vertical-align: top;\n",
       "    }\n",
       "\n",
       "    .dataframe thead th {\n",
       "        text-align: right;\n",
       "    }\n",
       "</style>\n",
       "<table border=\"1\" class=\"dataframe\">\n",
       "  <thead>\n",
       "    <tr style=\"text-align: right;\">\n",
       "      <th></th>\n",
       "      <th>pageview</th>\n",
       "      <th>pageview_level</th>\n",
       "    </tr>\n",
       "  </thead>\n",
       "  <tbody>\n",
       "    <tr>\n",
       "      <th>3</th>\n",
       "      <td>1051</td>\n",
       "      <td>0</td>\n",
       "    </tr>\n",
       "    <tr>\n",
       "      <th>4</th>\n",
       "      <td>517</td>\n",
       "      <td>0</td>\n",
       "    </tr>\n",
       "    <tr>\n",
       "      <th>5</th>\n",
       "      <td>3122</td>\n",
       "      <td>1</td>\n",
       "    </tr>\n",
       "    <tr>\n",
       "      <th>6</th>\n",
       "      <td>731</td>\n",
       "      <td>0</td>\n",
       "    </tr>\n",
       "    <tr>\n",
       "      <th>7</th>\n",
       "      <td>410</td>\n",
       "      <td>0</td>\n",
       "    </tr>\n",
       "    <tr>\n",
       "      <th>8</th>\n",
       "      <td>7276</td>\n",
       "      <td>1</td>\n",
       "    </tr>\n",
       "    <tr>\n",
       "      <th>9</th>\n",
       "      <td>2267</td>\n",
       "      <td>1</td>\n",
       "    </tr>\n",
       "    <tr>\n",
       "      <th>10</th>\n",
       "      <td>1691</td>\n",
       "      <td>1</td>\n",
       "    </tr>\n",
       "    <tr>\n",
       "      <th>11</th>\n",
       "      <td>648</td>\n",
       "      <td>0</td>\n",
       "    </tr>\n",
       "    <tr>\n",
       "      <th>12</th>\n",
       "      <td>478</td>\n",
       "      <td>0</td>\n",
       "    </tr>\n",
       "    <tr>\n",
       "      <th>13</th>\n",
       "      <td>713</td>\n",
       "      <td>0</td>\n",
       "    </tr>\n",
       "    <tr>\n",
       "      <th>14</th>\n",
       "      <td>925</td>\n",
       "      <td>0</td>\n",
       "    </tr>\n",
       "    <tr>\n",
       "      <th>15</th>\n",
       "      <td>1678</td>\n",
       "      <td>1</td>\n",
       "    </tr>\n",
       "    <tr>\n",
       "      <th>16</th>\n",
       "      <td>251</td>\n",
       "      <td>0</td>\n",
       "    </tr>\n",
       "    <tr>\n",
       "      <th>17</th>\n",
       "      <td>12048</td>\n",
       "      <td>1</td>\n",
       "    </tr>\n",
       "    <tr>\n",
       "      <th>18</th>\n",
       "      <td>863</td>\n",
       "      <td>0</td>\n",
       "    </tr>\n",
       "    <tr>\n",
       "      <th>20</th>\n",
       "      <td>13052</td>\n",
       "      <td>1</td>\n",
       "    </tr>\n",
       "    <tr>\n",
       "      <th>21</th>\n",
       "      <td>2375</td>\n",
       "      <td>1</td>\n",
       "    </tr>\n",
       "    <tr>\n",
       "      <th>22</th>\n",
       "      <td>7563</td>\n",
       "      <td>1</td>\n",
       "    </tr>\n",
       "    <tr>\n",
       "      <th>23</th>\n",
       "      <td>23986</td>\n",
       "      <td>1</td>\n",
       "    </tr>\n",
       "  </tbody>\n",
       "</table>\n",
       "</div>"
      ],
      "text/plain": [
       "    pageview pageview_level\n",
       "3       1051              0\n",
       "4        517              0\n",
       "5       3122              1\n",
       "6        731              0\n",
       "7        410              0\n",
       "8       7276              1\n",
       "9       2267              1\n",
       "10      1691              1\n",
       "11       648              0\n",
       "12       478              0\n",
       "13       713              0\n",
       "14       925              0\n",
       "15      1678              1\n",
       "16       251              0\n",
       "17     12048              1\n",
       "18       863              0\n",
       "20     13052              1\n",
       "21      2375              1\n",
       "22      7563              1\n",
       "23     23986              1"
      ]
     },
     "execution_count": 104,
     "metadata": {},
     "output_type": "execute_result"
    }
   ],
   "source": [
    "important_20000[['pageview','pageview_level']].head(20)"
   ]
  },
  {
   "cell_type": "markdown",
   "id": "fae22643",
   "metadata": {},
   "source": [
    "### 欄位齊備、outliers 已拿掉，可以做 Target Encoding 了"
   ]
  },
  {
   "cell_type": "code",
   "execution_count": 105,
   "id": "c96c4abb",
   "metadata": {},
   "outputs": [],
   "source": [
    "# 新增欄位：Target_Encoding_Day_of_Week\n",
    "\n",
    "important_20000_with_TE=important_20000[['Day_of_Week','pageview']].\\\n",
    "groupby('Day_of_Week').pageview.mean()\n",
    "\n",
    "important_20000_with_TE=important_20000_with_TE.to_dict()\n",
    "\n",
    "important_20000_with_TE\n",
    "\n",
    "important_20000.loc[:,'Target_Encoding_Day_of_Week']=\\\n",
    "important_20000['Day_of_Week'].map(important_20000_with_TE)"
   ]
  },
  {
   "cell_type": "code",
   "execution_count": 106,
   "id": "af5a618e",
   "metadata": {},
   "outputs": [],
   "source": [
    "# 新增欄位：Target_Encoding_Day_of_Week\n",
    "\n",
    "important_20000_with_TE=important_20000[['Day_of_Week','pageview']].\\\n",
    "groupby('Day_of_Week').pageview.mean()\n",
    "\n",
    "important_20000_with_TE=important_20000_with_TE.to_dict()\n",
    "\n",
    "important_20000_with_TE\n",
    "\n",
    "important_20000.loc[:,'Target_Encoding_Day_of_Week']=\\\n",
    "important_20000['Day_of_Week'].map(important_20000_with_TE)"
   ]
  },
  {
   "cell_type": "code",
   "execution_count": 107,
   "id": "6b7f1aff",
   "metadata": {},
   "outputs": [],
   "source": [
    "# 新增欄位：Target_Encoding_Timespan\n",
    "\n",
    "important_20000_with_timespans_TE=important_20000[['timespans','pageview']].\\\n",
    "groupby('timespans').pageview.mean()\n",
    "\n",
    "important_20000_with_timespans_TE.to_dict()\n",
    "\n",
    "important_20000.loc[:,'Target_Encoding_Timespan']=\\\n",
    "important_20000['timespans'].map(important_20000_with_timespans_TE)"
   ]
  },
  {
   "cell_type": "code",
   "execution_count": 108,
   "id": "2f471983",
   "metadata": {},
   "outputs": [],
   "source": [
    "important_20000['Target_Encoding_Timespan']=\\\n",
    "important_20000['Target_Encoding_Timespan'].astype(float)"
   ]
  },
  {
   "cell_type": "markdown",
   "id": "9a494012",
   "metadata": {},
   "source": [
    "### 針對類別變數做 target encoding"
   ]
  },
  {
   "cell_type": "code",
   "execution_count": 109,
   "id": "6a32a133",
   "metadata": {
    "scrolled": true
   },
   "outputs": [
    {
     "name": "stdout",
     "output_type": "stream",
     "text": [
      "articleType_and_pv:\n",
      "{1: 3127.8044993662866, 2: 3214.8492359198663, 3: 684.2, 4: 3902.3464266230226, 5: 3237.7509157509157}\n"
     ]
    }
   ],
   "source": [
    "#Target_Encoding_articleType\n",
    "\n",
    "important_20000_with_TE=important_20000[['articleType','pageview']]\\\n",
    ".groupby('articleType').pageview.mean()\n",
    "\n",
    "important_20000_with_TE=important_20000_with_TE.to_dict()\n",
    "\n",
    "important_20000.loc[:,'Target_Encoding_articleType']=\\\n",
    "important_20000['articleType'].map(important_20000_with_TE)  \n",
    "\n",
    "\n",
    "#實際驗算發現，如預期，Target Encoding 轉後後的值的確是「原值對應的所有 pageviews 的平均值」 （例外：以下的 \"1\" 對應5404，但驗算後應為 5,577，其他 2、4、5、98驗算過無誤）\n",
    "                                       \n",
    "print(f\"articleType_and_pv:\\n{important_20000_with_TE}\")"
   ]
  },
  {
   "cell_type": "markdown",
   "id": "a5b0a85a",
   "metadata": {},
   "source": [
    "### 證明 target encoding 沒算錯，繼續將其他 categorical features 轉  target encoding "
   ]
  },
  {
   "cell_type": "code",
   "execution_count": 110,
   "id": "61634d40",
   "metadata": {},
   "outputs": [
    {
     "data": {
      "text/plain": [
       "3                        PERSON_洪子凱\n",
       "4    PERSON_洪哲政PERSON_呂慧瑜PERSON_李宗祐\n",
       "5    PERSON_鄭媁PERSON_歐陽良盈PERSON_王燕華\n",
       "6    PERSON_曾健祐PERSON_蔣永佑PERSON_林孟潔\n",
       "7                        PERSON_周辰陽\n",
       "Name: reporter_NE, dtype: object"
      ]
     },
     "execution_count": 110,
     "metadata": {},
     "output_type": "execute_result"
    }
   ],
   "source": [
    "important_20000['reporter_NE'].head()"
   ]
  },
  {
   "cell_type": "code",
   "execution_count": 111,
   "id": "0af40617",
   "metadata": {},
   "outputs": [],
   "source": [
    "#6/24 新增 Target_Encoding_reporter_NE\n",
    "\n",
    "important_20000_with_TE=important_20000[['reporter_NE','pageview']]\\\n",
    ".groupby('reporter_NE').pageview.mean()\n",
    "\n",
    "important_20000_with_TE=important_20000_with_TE.to_dict()\n",
    "\n",
    "important_20000.loc[:,'Target_Encoding_reporter_NE']=\\\n",
    "important_20000['reporter_NE'].map(important_20000_with_TE)\n",
    "\n",
    "\n",
    "#Target_Encoding_paperId\n",
    "\n",
    "important_20000_with_TE=important_20000[['paperId','pageview']]\\\n",
    ".groupby('paperId').pageview.mean()\n",
    "\n",
    "important_20000_with_TE=important_20000_with_TE.to_dict()\n",
    "\n",
    "important_20000.loc[:,'Target_Encoding_paperId']=\\\n",
    "important_20000['paperId'].map(important_20000_with_TE)\n",
    "\n",
    "#Target_Encoding_providerId\n",
    "\n",
    "important_20000_with_TE=important_20000[['providerId','pageview']]\\\n",
    ".groupby('providerId').pageview.mean()\n",
    "\n",
    "important_20000_with_TE=important_20000_with_TE.to_dict()\n",
    "\n",
    "important_20000.loc[:,'Target_Encoding_providerId']=\\\n",
    "important_20000['providerId'].map(important_20000_with_TE)\n",
    "\n",
    "#Target_Encoding_instantNews\n",
    "\n",
    "important_20000_with_TE=important_20000[['instantNews','pageview']]\\\n",
    ".groupby('instantNews').pageview.mean()\n",
    "\n",
    "important_20000_with_TE=important_20000_with_TE.to_dict()\n",
    "\n",
    "important_20000.loc[:,'Target_Encoding_instantNews']=\\\n",
    "important_20000['instantNews'].map(important_20000_with_TE)\n",
    "\n",
    "#Target_Encoding_categoryId\n",
    "\n",
    "important_20000_with_TE=important_20000[['categoryId','pageview']]\\\n",
    ".groupby('categoryId').pageview.mean()\n",
    "\n",
    "important_20000.loc[:,'Target_Encoding_categoryId']=\\\n",
    "important_20000['categoryId'].map(important_20000_with_TE)\n",
    "\n",
    "#Target_Encoding_upperCategoryId\n",
    "\n",
    "important_20000_with_TE=important_20000[['upperCategoryId','pageview']]\\\n",
    ".groupby('upperCategoryId').pageview.mean()\n",
    "\n",
    "important_20000_with_TE=important_20000_with_TE.to_dict()\n",
    "\n",
    "\n",
    "important_20000.loc[:,'Target_Encoding_upperCategoryId']=\\\n",
    "important_20000['upperCategoryId'].map(important_20000_with_TE)\n",
    "\n",
    "#Target_Encoding_status\n",
    "\n",
    "important_20000_with_TE=important_20000[['status','pageview']]\\\n",
    ".groupby('status').pageview.mean()\n",
    "\n",
    "important_20000_with_TE=important_20000_with_TE.to_dict()\n",
    "\n",
    "important_20000.loc[:,'Target_Encoding_status']=\\\n",
    "important_20000['status'].map(important_20000_with_TE)\n",
    "\n",
    "#Target_Encoding_topPush\n",
    "\n",
    "important_20000_with_TE=important_20000[['topPush','pageview']]\\\n",
    ".groupby('topPush').pageview.mean()\n",
    "\n",
    "important_20000.loc[:,'Target_Encoding_topPush']=\\\n",
    "important_20000['topPush'].map(important_20000_with_TE)\n",
    "\n",
    "#Target_Encoding_documentType\n",
    "\n",
    "important_20000_with_TE=important_20000[['documentType','pageview']]\\\n",
    ".groupby('documentType').pageview.mean()\n",
    "\n",
    "important_20000_with_TE=important_20000_with_TE.to_dict()\n",
    "\n",
    "important_20000.loc[:,'Target_Encoding_documentType']=\\\n",
    "important_20000['documentType'].map(important_20000_with_TE)\n",
    "\n",
    "#Target_Encoding_choice\n",
    "\n",
    "important_20000_with_TE=important_20000[['choice','pageview']]\\\n",
    ".groupby('choice').pageview.mean()\n",
    "\n",
    "important_20000_with_TE=important_20000_with_TE.to_dict()\n",
    "\n",
    "important_20000.loc[:,'Target_Encoding_choice']=\\\n",
    "important_20000['choice'].map(important_20000_with_TE)\n",
    "\n",
    "#'Reporter awaits data cleaning'"
   ]
  },
  {
   "cell_type": "code",
   "execution_count": 112,
   "id": "e44c33c3",
   "metadata": {},
   "outputs": [
    {
     "name": "stdout",
     "output_type": "stream",
     "text": [
      "<class 'pandas.core.frame.DataFrame'>\n",
      "Int64Index: 23786 entries, 3 to 26422\n",
      "Data columns (total 69 columns):\n",
      " #   Column                           Non-Null Count  Dtype          \n",
      "---  ------                           --------------  -----          \n",
      " 0   index                            23786 non-null  int64          \n",
      " 1   channelId                        23786 non-null  int64          \n",
      " 2   articleId                        23786 non-null  int64          \n",
      " 3   articleType                      23786 non-null  int64          \n",
      " 4   reporter                         23786 non-null  object         \n",
      " 5   authorId                         23786 non-null  int64          \n",
      " 6   headline                         23786 non-null  object         \n",
      " 7   sourceName                       23786 non-null  object         \n",
      " 8   paperId                          23786 non-null  int64          \n",
      " 9   presentDate                      23786 non-null  object         \n",
      " 10  insertTime                       23786 non-null  object         \n",
      " 11  providerId                       23786 non-null  int64          \n",
      " 12  instantNews                      23786 non-null  object         \n",
      " 13  porn                             23786 non-null  object         \n",
      " 14  categoryId                       23786 non-null  int64          \n",
      " 15  upperCategoryId                  23786 non-null  int64          \n",
      " 16  status                           23786 non-null  int64          \n",
      " 17  weight                           23786 non-null  int64          \n",
      " 18  onlineTime                       23786 non-null  object         \n",
      " 19  offlineTime                      23786 non-null  object         \n",
      " 20  firstPublishTime                 23786 non-null  object         \n",
      " 21  displayTime                      23786 non-null  object         \n",
      " 22  publishTime                      23786 non-null  object         \n",
      " 23  topPush                          23786 non-null  object         \n",
      " 24  choice                           23786 non-null  object         \n",
      " 25  pageview                         23786 non-null  int64          \n",
      " 26  body                             23786 non-null  object         \n",
      " 27  articleURL                       23786 non-null  object         \n",
      " 28  articleTypeName                  23786 non-null  object         \n",
      " 29  categoryName                     23786 non-null  object         \n",
      " 30  upperCategoryName                23786 non-null  object         \n",
      " 31  documentType                     23786 non-null  int64          \n",
      " 32  videoNumber                      23786 non-null  int64          \n",
      " 33  pictureNumber                    23786 non-null  int64          \n",
      " 34  tags                             23786 non-null  object         \n",
      " 35  highest_3_similarity             23786 non-null  object         \n",
      " 36  mean_similarity                  23786 non-null  float64        \n",
      " 37  similarity_sum                   23786 non-null  float64        \n",
      " 38  pv_of_similar_historical         23786 non-null  object         \n",
      " 39  mean_pv                          23786 non-null  object         \n",
      " 40  pv_sum                           23786 non-null  object         \n",
      " 41  indexes_of_similar_historical    23786 non-null  object         \n",
      " 42  has_exclaimation                 23786 non-null  int64          \n",
      " 43  headline_len                     23786 non-null  int64          \n",
      " 44  index                            23786 non-null  int64          \n",
      " 45  reporter                         23786 non-null  object         \n",
      " 46  reporter_NE                      23786 non-null  object         \n",
      " 47  reporter_ne_count                23786 non-null  int64          \n",
      " 48  date                             23786 non-null  object         \n",
      " 49  time                             23786 non-null  object         \n",
      " 50  converted_display_time           23786 non-null  datetime64[ns] \n",
      " 51  time_delta                       23786 non-null  timedelta64[ns]\n",
      " 52  timespans                        23786 non-null  category       \n",
      " 53  Day_of_Week                      23786 non-null  int64          \n",
      " 54  pageview_trimmed                 23786 non-null  bool           \n",
      " 55  pageview_level                   23786 non-null  category       \n",
      " 56  Target_Encoding_Day_of_Week      23786 non-null  float64        \n",
      " 57  Target_Encoding_Timespan         23786 non-null  float64        \n",
      " 58  Target_Encoding_articleType      23786 non-null  float64        \n",
      " 59  Target_Encoding_reporter_NE      23786 non-null  float64        \n",
      " 60  Target_Encoding_paperId          23786 non-null  float64        \n",
      " 61  Target_Encoding_providerId       23786 non-null  float64        \n",
      " 62  Target_Encoding_instantNews      23786 non-null  float64        \n",
      " 63  Target_Encoding_categoryId       23786 non-null  float64        \n",
      " 64  Target_Encoding_upperCategoryId  23786 non-null  float64        \n",
      " 65  Target_Encoding_status           23786 non-null  float64        \n",
      " 66  Target_Encoding_topPush          23786 non-null  float64        \n",
      " 67  Target_Encoding_documentType     23786 non-null  float64        \n",
      " 68  Target_Encoding_choice           23786 non-null  float64        \n",
      "dtypes: bool(1), category(2), datetime64[ns](1), float64(15), int64(20), object(29), timedelta64[ns](1)\n",
      "memory usage: 12.2+ MB\n"
     ]
    }
   ],
   "source": [
    "# 檢查這些Target_Encoding_xxx 有沒有進到 df\n",
    "\n",
    "important_20000.info()"
   ]
  },
  {
   "cell_type": "code",
   "execution_count": 113,
   "id": "d8a6a26e",
   "metadata": {},
   "outputs": [],
   "source": [
    "#reporter_NE_count 做 Target Encoding\n",
    "\n",
    "important_20000_TE=\\\n",
    "important_20000[['reporter_ne_count','pageview']]\\\n",
    ".groupby('reporter_ne_count').pageview.mean()\n",
    "\n",
    "important_20000_TE=\\\n",
    "important_20000_TE.to_dict()\n",
    "\n",
    "important_20000.loc[:,'Target_Encoding_reporter_ne_count']=\\\n",
    "important_20000['reporter_ne_count'].map(important_20000_TE)"
   ]
  },
  {
   "cell_type": "code",
   "execution_count": 114,
   "id": "43c31742",
   "metadata": {},
   "outputs": [
    {
     "name": "stdout",
     "output_type": "stream",
     "text": [
      "<class 'pandas.core.frame.DataFrame'>\n",
      "Int64Index: 23786 entries, 3 to 26422\n",
      "Data columns (total 70 columns):\n",
      " #   Column                             Non-Null Count  Dtype          \n",
      "---  ------                             --------------  -----          \n",
      " 0   index                              23786 non-null  int64          \n",
      " 1   channelId                          23786 non-null  int64          \n",
      " 2   articleId                          23786 non-null  int64          \n",
      " 3   articleType                        23786 non-null  int64          \n",
      " 4   reporter                           23786 non-null  object         \n",
      " 5   authorId                           23786 non-null  int64          \n",
      " 6   headline                           23786 non-null  object         \n",
      " 7   sourceName                         23786 non-null  object         \n",
      " 8   paperId                            23786 non-null  int64          \n",
      " 9   presentDate                        23786 non-null  object         \n",
      " 10  insertTime                         23786 non-null  object         \n",
      " 11  providerId                         23786 non-null  int64          \n",
      " 12  instantNews                        23786 non-null  object         \n",
      " 13  porn                               23786 non-null  object         \n",
      " 14  categoryId                         23786 non-null  int64          \n",
      " 15  upperCategoryId                    23786 non-null  int64          \n",
      " 16  status                             23786 non-null  int64          \n",
      " 17  weight                             23786 non-null  int64          \n",
      " 18  onlineTime                         23786 non-null  object         \n",
      " 19  offlineTime                        23786 non-null  object         \n",
      " 20  firstPublishTime                   23786 non-null  object         \n",
      " 21  displayTime                        23786 non-null  object         \n",
      " 22  publishTime                        23786 non-null  object         \n",
      " 23  topPush                            23786 non-null  object         \n",
      " 24  choice                             23786 non-null  object         \n",
      " 25  pageview                           23786 non-null  int64          \n",
      " 26  body                               23786 non-null  object         \n",
      " 27  articleURL                         23786 non-null  object         \n",
      " 28  articleTypeName                    23786 non-null  object         \n",
      " 29  categoryName                       23786 non-null  object         \n",
      " 30  upperCategoryName                  23786 non-null  object         \n",
      " 31  documentType                       23786 non-null  int64          \n",
      " 32  videoNumber                        23786 non-null  int64          \n",
      " 33  pictureNumber                      23786 non-null  int64          \n",
      " 34  tags                               23786 non-null  object         \n",
      " 35  highest_3_similarity               23786 non-null  object         \n",
      " 36  mean_similarity                    23786 non-null  float64        \n",
      " 37  similarity_sum                     23786 non-null  float64        \n",
      " 38  pv_of_similar_historical           23786 non-null  object         \n",
      " 39  mean_pv                            23786 non-null  object         \n",
      " 40  pv_sum                             23786 non-null  object         \n",
      " 41  indexes_of_similar_historical      23786 non-null  object         \n",
      " 42  has_exclaimation                   23786 non-null  int64          \n",
      " 43  headline_len                       23786 non-null  int64          \n",
      " 44  index                              23786 non-null  int64          \n",
      " 45  reporter                           23786 non-null  object         \n",
      " 46  reporter_NE                        23786 non-null  object         \n",
      " 47  reporter_ne_count                  23786 non-null  int64          \n",
      " 48  date                               23786 non-null  object         \n",
      " 49  time                               23786 non-null  object         \n",
      " 50  converted_display_time             23786 non-null  datetime64[ns] \n",
      " 51  time_delta                         23786 non-null  timedelta64[ns]\n",
      " 52  timespans                          23786 non-null  category       \n",
      " 53  Day_of_Week                        23786 non-null  int64          \n",
      " 54  pageview_trimmed                   23786 non-null  bool           \n",
      " 55  pageview_level                     23786 non-null  category       \n",
      " 56  Target_Encoding_Day_of_Week        23786 non-null  float64        \n",
      " 57  Target_Encoding_Timespan           23786 non-null  float64        \n",
      " 58  Target_Encoding_articleType        23786 non-null  float64        \n",
      " 59  Target_Encoding_reporter_NE        23786 non-null  float64        \n",
      " 60  Target_Encoding_paperId            23786 non-null  float64        \n",
      " 61  Target_Encoding_providerId         23786 non-null  float64        \n",
      " 62  Target_Encoding_instantNews        23786 non-null  float64        \n",
      " 63  Target_Encoding_categoryId         23786 non-null  float64        \n",
      " 64  Target_Encoding_upperCategoryId    23786 non-null  float64        \n",
      " 65  Target_Encoding_status             23786 non-null  float64        \n",
      " 66  Target_Encoding_topPush            23786 non-null  float64        \n",
      " 67  Target_Encoding_documentType       23786 non-null  float64        \n",
      " 68  Target_Encoding_choice             23786 non-null  float64        \n",
      " 69  Target_Encoding_reporter_ne_count  23786 non-null  float64        \n",
      "dtypes: bool(1), category(2), datetime64[ns](1), float64(16), int64(20), object(29), timedelta64[ns](1)\n",
      "memory usage: 12.4+ MB\n"
     ]
    }
   ],
   "source": [
    "important_20000.info()"
   ]
  },
  {
   "cell_type": "markdown",
   "id": "ac6e3f79",
   "metadata": {},
   "source": [
    "## 6/14 起，y 改為 \"pageview_level\" 而非原來的 \"pageview\""
   ]
  },
  {
   "cell_type": "markdown",
   "id": "1ca85541",
   "metadata": {},
   "source": [
    "### 挑選訓練欄位"
   ]
  },
  {
   "cell_type": "code",
   "execution_count": 115,
   "id": "739592cb",
   "metadata": {},
   "outputs": [],
   "source": [
    "#挑選訓練欄位，拿掉「reporter_NE」（只保留 Target_Encoding_reporter_NE）\n",
    "important_20000=\\\n",
    "important_20000[['headline', 'pageview_level', 'weight', 'videoNumber', 'pictureNumber',\n",
    "       'headline_len', 'has_exclaimation', 'timespans', 'Day_of_Week',\n",
    "       'Target_Encoding_Day_of_Week', 'Target_Encoding_Timespan',\n",
    "       'Target_Encoding_articleType', 'Target_Encoding_paperId',\n",
    "       'Target_Encoding_providerId', 'Target_Encoding_instantNews',\n",
    "       'Target_Encoding_categoryId', 'Target_Encoding_upperCategoryId',\n",
    "       'Target_Encoding_topPush',\n",
    "       'Target_Encoding_documentType', 'Target_Encoding_choice',\n",
    "       'Target_Encoding_reporter_ne_count','Target_Encoding_reporter_NE','mean_similarity','similarity_sum','mean_pv','pv_sum','reporter_ne_count']]"
   ]
  },
  {
   "cell_type": "code",
   "execution_count": 116,
   "id": "42fb48cd",
   "metadata": {},
   "outputs": [],
   "source": [
    "#!pip install odfpy"
   ]
  },
  {
   "cell_type": "code",
   "execution_count": 117,
   "id": "8f8fd955",
   "metadata": {},
   "outputs": [
    {
     "name": "stdout",
     "output_type": "stream",
     "text": [
      "<class 'pandas.core.frame.DataFrame'>\n",
      "Int64Index: 23786 entries, 3 to 26422\n",
      "Data columns (total 27 columns):\n",
      " #   Column                             Non-Null Count  Dtype   \n",
      "---  ------                             --------------  -----   \n",
      " 0   headline                           23786 non-null  object  \n",
      " 1   pageview_level                     23786 non-null  category\n",
      " 2   weight                             23786 non-null  int64   \n",
      " 3   videoNumber                        23786 non-null  int64   \n",
      " 4   pictureNumber                      23786 non-null  int64   \n",
      " 5   headline_len                       23786 non-null  int64   \n",
      " 6   has_exclaimation                   23786 non-null  int64   \n",
      " 7   timespans                          23786 non-null  int64   \n",
      " 8   Day_of_Week                        23786 non-null  int64   \n",
      " 9   Target_Encoding_Day_of_Week        23786 non-null  float64 \n",
      " 10  Target_Encoding_Timespan           23786 non-null  float64 \n",
      " 11  Target_Encoding_articleType        23786 non-null  float64 \n",
      " 12  Target_Encoding_paperId            23786 non-null  float64 \n",
      " 13  Target_Encoding_providerId         23786 non-null  float64 \n",
      " 14  Target_Encoding_instantNews        23786 non-null  float64 \n",
      " 15  Target_Encoding_categoryId         23786 non-null  float64 \n",
      " 16  Target_Encoding_upperCategoryId    23786 non-null  float64 \n",
      " 17  Target_Encoding_topPush            23786 non-null  float64 \n",
      " 18  Target_Encoding_documentType       23786 non-null  float64 \n",
      " 19  Target_Encoding_choice             23786 non-null  float64 \n",
      " 20  Target_Encoding_reporter_ne_count  23786 non-null  float64 \n",
      " 21  Target_Encoding_reporter_NE        23786 non-null  float64 \n",
      " 22  mean_similarity                    23786 non-null  float64 \n",
      " 23  similarity_sum                     23786 non-null  float64 \n",
      " 24  mean_pv                            23786 non-null  object  \n",
      " 25  pv_sum                             23786 non-null  object  \n",
      " 26  reporter_ne_count                  23786 non-null  int64   \n",
      "dtypes: category(1), float64(15), int64(8), object(3)\n",
      "memory usage: 4.9+ MB\n"
     ]
    }
   ],
   "source": [
    "important_20000['timespans']=\\\n",
    "important_20000['timespans'].astype('int64')\n",
    "important_20000.info()"
   ]
  },
  {
   "cell_type": "code",
   "execution_count": 118,
   "id": "524eaf8c",
   "metadata": {},
   "outputs": [
    {
     "data": {
      "text/plain": [
       "Index(['pageview_level', 'weight', 'videoNumber', 'pictureNumber',\n",
       "       'headline_len', 'has_exclaimation', 'timespans', 'Day_of_Week',\n",
       "       'Target_Encoding_Day_of_Week', 'Target_Encoding_Timespan',\n",
       "       'Target_Encoding_articleType', 'Target_Encoding_paperId',\n",
       "       'Target_Encoding_providerId', 'Target_Encoding_instantNews',\n",
       "       'Target_Encoding_categoryId', 'Target_Encoding_upperCategoryId',\n",
       "       'Target_Encoding_topPush', 'Target_Encoding_documentType',\n",
       "       'Target_Encoding_choice', 'Target_Encoding_reporter_ne_count',\n",
       "       'Target_Encoding_reporter_NE', 'mean_similarity', 'similarity_sum',\n",
       "       'mean_pv', 'pv_sum', 'reporter_ne_count'],\n",
       "      dtype='object')"
      ]
     },
     "execution_count": 118,
     "metadata": {},
     "output_type": "execute_result"
    }
   ],
   "source": [
    "#Create a df without 'headlines'\n",
    "\n",
    "important_20000_features_targets_only=important_20000.iloc[:,1:]\n",
    "important_20000_features_targets_only.columns"
   ]
  },
  {
   "cell_type": "markdown",
   "id": "f3e95a5f",
   "metadata": {},
   "source": [
    "### 處理 tags 相關幾個新生成欄位的 'NA'"
   ]
  },
  {
   "cell_type": "code",
   "execution_count": 119,
   "id": "34e7aac3",
   "metadata": {},
   "outputs": [
    {
     "data": {
      "text/plain": [
       " 1.00    4962\n",
       "-1.00    2670\n",
       " 0.50    2199\n",
       " 0.67    1574\n",
       " 0.75    1383\n",
       " 0.83     710\n",
       " 0.80     708\n",
       " 0.60     699\n",
       " 0.65     582\n",
       " 0.56     469\n",
       "Name: mean_similarity, dtype: int64"
      ]
     },
     "execution_count": 119,
     "metadata": {},
     "output_type": "execute_result"
    }
   ],
   "source": [
    "\"\"\"'mean_similarity', 'similarity_sum',\n",
    "       'mean_pv', 'pv_sum', 'reporter_ne_count'\"\"\"\n",
    "\n",
    "important_20000_features_targets_only['mean_similarity'].value_counts().iloc[:10]"
   ]
  },
  {
   "cell_type": "code",
   "execution_count": 120,
   "id": "9404ccc9",
   "metadata": {},
   "outputs": [
    {
     "data": {
      "text/plain": [
       " 3.00    4962\n",
       "-3.00    2670\n",
       " 1.50    2182\n",
       " 2.25    1366\n",
       " 2.01    1160\n",
       " 2.40     704\n",
       " 1.80     604\n",
       " 2.50     511\n",
       " 1.60     428\n",
       " 1.67     412\n",
       "Name: similarity_sum, dtype: int64"
      ]
     },
     "execution_count": 120,
     "metadata": {},
     "output_type": "execute_result"
    }
   ],
   "source": [
    "important_20000_features_targets_only['similarity_sum'].value_counts().iloc[:10]"
   ]
  },
  {
   "cell_type": "code",
   "execution_count": 121,
   "id": "d739a91e",
   "metadata": {},
   "outputs": [
    {
     "data": {
      "text/plain": [
       "2670"
      ]
     },
     "execution_count": 121,
     "metadata": {},
     "output_type": "execute_result"
    }
   ],
   "source": [
    "len\\\n",
    "(important_20000_features_targets_only[important_20000_features_targets_only.mean_pv=='NA'])"
   ]
  },
  {
   "cell_type": "markdown",
   "id": "f513a4a3",
   "metadata": {},
   "source": [
    "### 把 NA 的列拿掉"
   ]
  },
  {
   "cell_type": "code",
   "execution_count": 122,
   "id": "8840eb5e",
   "metadata": {},
   "outputs": [],
   "source": [
    "important_20000_features_targets_only=\\\n",
    "important_20000_features_targets_only\\\n",
    "[(important_20000_features_targets_only.mean_pv!='NA')&\\\n",
    " (important_20000_features_targets_only.pv_sum!='NA')]"
   ]
  },
  {
   "cell_type": "code",
   "execution_count": 123,
   "id": "3b33920a",
   "metadata": {},
   "outputs": [
    {
     "data": {
      "text/plain": [
       "21116"
      ]
     },
     "execution_count": 123,
     "metadata": {},
     "output_type": "execute_result"
    }
   ],
   "source": [
    "important_20000_features_targets_only.shape[0]"
   ]
  },
  {
   "cell_type": "markdown",
   "id": "ddca5456",
   "metadata": {},
   "source": [
    "## Train-Test Splitting (此時列數是 23,786)"
   ]
  },
  {
   "cell_type": "code",
   "execution_count": 124,
   "id": "0cd24f01",
   "metadata": {},
   "outputs": [
    {
     "name": "stdout",
     "output_type": "stream",
     "text": [
      "my features:Index(['weight', 'videoNumber', 'pictureNumber', 'headline_len',\n",
      "       'has_exclaimation', 'timespans', 'Day_of_Week',\n",
      "       'Target_Encoding_Day_of_Week', 'Target_Encoding_Timespan',\n",
      "       'Target_Encoding_articleType', 'Target_Encoding_paperId',\n",
      "       'Target_Encoding_providerId', 'Target_Encoding_instantNews',\n",
      "       'Target_Encoding_categoryId', 'Target_Encoding_upperCategoryId',\n",
      "       'Target_Encoding_topPush', 'Target_Encoding_documentType',\n",
      "       'Target_Encoding_choice', 'Target_Encoding_reporter_ne_count',\n",
      "       'Target_Encoding_reporter_NE', 'mean_similarity', 'similarity_sum',\n",
      "       'mean_pv', 'pv_sum', 'reporter_ne_count'],\n",
      "      dtype='object')\n",
      "\n",
      "my number of features:25\n",
      "\n",
      "Index(['weight', 'videoNumber', 'pictureNumber', 'headline_len',\n",
      "       'has_exclaimation', 'timespans', 'Day_of_Week',\n",
      "       'Target_Encoding_Day_of_Week', 'Target_Encoding_Timespan',\n",
      "       'Target_Encoding_articleType', 'Target_Encoding_paperId',\n",
      "       'Target_Encoding_providerId', 'Target_Encoding_instantNews',\n",
      "       'Target_Encoding_categoryId', 'Target_Encoding_upperCategoryId',\n",
      "       'Target_Encoding_topPush', 'Target_Encoding_documentType',\n",
      "       'Target_Encoding_choice', 'Target_Encoding_reporter_ne_count',\n",
      "       'Target_Encoding_reporter_NE', 'mean_similarity', 'similarity_sum',\n",
      "       'mean_pv', 'pv_sum', 'reporter_ne_count'],\n",
      "      dtype='object')\n",
      "Y values:\n",
      "3    0\n",
      "4    0\n",
      "5    1\n",
      "6    0\n",
      "7    0\n",
      "Name: pageview_level, dtype: category\n",
      "Categories (2, int64): [0 < 1]\n"
     ]
    }
   ],
   "source": [
    "#Y is the target column, X has the rest\n",
    "\n",
    "col_length=len(important_20000_features_targets_only)\n",
    "\n",
    "X = important_20000_features_targets_only.iloc[:,1:col_length]\n",
    "print(f\"my features:{X.columns}\\n\")\n",
    "print(f\"my number of features:{len(X.columns)}\\n\")\n",
    "print(X.columns)\n",
    "Y = important_20000_features_targets_only.iloc[:,0]\n",
    "print(f\"Y values:\\n{Y.head()}\")"
   ]
  },
  {
   "cell_type": "code",
   "execution_count": 125,
   "id": "ffa70e24",
   "metadata": {},
   "outputs": [],
   "source": [
    "#Validation chunk size\n",
    "val_size = 0.25\n",
    "\n",
    "#Split the data into chunks\n",
    "from sklearn.model_selection import train_test_split \n",
    "X_train, X_val, Y_train, Y_val = train_test_split\\\n",
    "(X, Y, test_size=val_size, random_state = 0)"
   ]
  },
  {
   "cell_type": "code",
   "execution_count": 126,
   "id": "cdf91b16",
   "metadata": {},
   "outputs": [],
   "source": [
    "X_train, X_test, y_train, y_test = \\\n",
    "train_test_split(X, Y, test_size=val_size, random_state = 0,stratify=Y)"
   ]
  },
  {
   "cell_type": "markdown",
   "id": "92d4abbd",
   "metadata": {},
   "source": [
    "## 看train/test 的y 的0,1 是否數量差不多"
   ]
  },
  {
   "cell_type": "code",
   "execution_count": 127,
   "id": "60d5512a",
   "metadata": {},
   "outputs": [
    {
     "data": {
      "text/plain": [
       "0    0.506156\n",
       "1    0.493844\n",
       "Name: pageview_level, dtype: float64"
      ]
     },
     "execution_count": 127,
     "metadata": {},
     "output_type": "execute_result"
    }
   ],
   "source": [
    "pd.Series(Y_train).value_counts(normalize=True)"
   ]
  },
  {
   "cell_type": "code",
   "execution_count": 128,
   "id": "a2254329",
   "metadata": {},
   "outputs": [
    {
     "data": {
      "text/plain": [
       "0    0.500474\n",
       "1    0.499526\n",
       "Name: pageview_level, dtype: float64"
      ]
     },
     "execution_count": 128,
     "metadata": {},
     "output_type": "execute_result"
    }
   ],
   "source": [
    "pd.Series(Y_val).value_counts(normalize=True)"
   ]
  },
  {
   "cell_type": "code",
   "execution_count": 129,
   "id": "4d6e2c9c",
   "metadata": {},
   "outputs": [],
   "source": [
    "#turn into 1d arrays\n",
    "Y_train = Y_train.to_numpy().ravel()\n",
    "Y_val = Y_val.to_numpy().ravel()"
   ]
  },
  {
   "cell_type": "markdown",
   "id": "04dda55f",
   "metadata": {},
   "source": [
    "### Standardize, as the features differ a lot in scales. "
   ]
  },
  {
   "cell_type": "code",
   "execution_count": 130,
   "id": "40b446e2",
   "metadata": {},
   "outputs": [],
   "source": [
    "%run feature_processing.ipynb"
   ]
  },
  {
   "cell_type": "code",
   "execution_count": 131,
   "id": "62701273",
   "metadata": {
    "scrolled": true
   },
   "outputs": [],
   "source": [
    "# from sklearn.preprocessing import StandardScaler\n",
    "from sklearn.preprocessing import StandardScaler\n",
    "\n",
    "scaler=StandardScaler()\n",
    "\n",
    "X_train=scaler.fit_transform(X_train)\n",
    "X_val=scaler.transform(X_val)"
   ]
  },
  {
   "cell_type": "markdown",
   "id": "1d1fb208",
   "metadata": {},
   "source": [
    "## 用 Logistic Regression"
   ]
  },
  {
   "cell_type": "code",
   "execution_count": 132,
   "id": "7f292eb3",
   "metadata": {},
   "outputs": [],
   "source": [
    "from sklearn.linear_model import LogisticRegression\n",
    "from sklearn.tree import DecisionTreeClassifier"
   ]
  },
  {
   "cell_type": "code",
   "execution_count": 133,
   "id": "054d174c",
   "metadata": {
    "scrolled": true
   },
   "outputs": [],
   "source": [
    "lg_model = LogisticRegression(multi_class='ovr').fit(X_train,Y_train)\n",
    "lg_predictions = lg_model.predict(X_train)"
   ]
  },
  {
   "cell_type": "code",
   "execution_count": 134,
   "id": "c2d4c6fd",
   "metadata": {},
   "outputs": [
    {
     "name": "stdout",
     "output_type": "stream",
     "text": [
      "              precision    recall  f1-score   support\n",
      "\n",
      "           0       0.51      0.68      0.58      8016\n",
      "           1       0.51      0.35      0.41      7821\n",
      "\n",
      "    accuracy                           0.51     15837\n",
      "   macro avg       0.51      0.51      0.50     15837\n",
      "weighted avg       0.51      0.51      0.50     15837\n",
      "\n"
     ]
    }
   ],
   "source": [
    "from sklearn.metrics import classification_report\n",
    "print(classification_report(Y_train, lg_predictions))"
   ]
  },
  {
   "cell_type": "code",
   "execution_count": 135,
   "id": "9e586282",
   "metadata": {},
   "outputs": [
    {
     "data": {
      "text/plain": [
       "['weight',\n",
       " 'videoNumber',\n",
       " 'pictureNumber',\n",
       " 'headline_len',\n",
       " 'has_exclaimation',\n",
       " 'timespans',\n",
       " 'Day_of_Week',\n",
       " 'Target_Encoding_Day_of_Week',\n",
       " 'Target_Encoding_Timespan',\n",
       " 'Target_Encoding_articleType',\n",
       " 'Target_Encoding_paperId',\n",
       " 'Target_Encoding_providerId',\n",
       " 'Target_Encoding_instantNews',\n",
       " 'Target_Encoding_categoryId',\n",
       " 'Target_Encoding_upperCategoryId',\n",
       " 'Target_Encoding_topPush',\n",
       " 'Target_Encoding_documentType',\n",
       " 'Target_Encoding_choice',\n",
       " 'Target_Encoding_reporter_ne_count',\n",
       " 'Target_Encoding_reporter_NE',\n",
       " 'mean_similarity',\n",
       " 'similarity_sum',\n",
       " 'mean_pv',\n",
       " 'pv_sum',\n",
       " 'reporter_ne_count']"
      ]
     },
     "execution_count": 135,
     "metadata": {},
     "output_type": "execute_result"
    }
   ],
   "source": [
    "#Examine the correlation between each feature and the target\n",
    "X.columns.to_list()"
   ]
  },
  {
   "cell_type": "code",
   "execution_count": 136,
   "id": "ef67013c",
   "metadata": {},
   "outputs": [
    {
     "data": {
      "text/plain": [
       "array([[-2.23547964e-02,  2.50272557e-03,  1.69801515e-02,\n",
       "        -4.21526702e-03, -2.60151084e-02,  6.75034700e-03,\n",
       "         1.80827432e-02,  8.33892492e-03, -2.24541705e-02,\n",
       "        -9.02689699e-03, -2.32470439e-03,  5.25189759e-05,\n",
       "         1.80574493e-03, -1.92078244e-02,  3.46189938e-02,\n",
       "         4.71587552e-02,  7.64806229e-03, -3.44650326e-02,\n",
       "        -2.19234361e-02, -5.05931386e-04,  1.55917447e-02,\n",
       "         1.57693719e-02,  4.19948095e-03,  4.20274557e-03,\n",
       "         1.07501045e-02]])"
      ]
     },
     "execution_count": 136,
     "metadata": {},
     "output_type": "execute_result"
    }
   ],
   "source": [
    "lg_model.coef_"
   ]
  },
  {
   "cell_type": "code",
   "execution_count": 137,
   "id": "25b59eb4",
   "metadata": {},
   "outputs": [
    {
     "data": {
      "text/plain": [
       "(1, 25)"
      ]
     },
     "execution_count": 137,
     "metadata": {},
     "output_type": "execute_result"
    }
   ],
   "source": [
    "lg_model.coef_.shape"
   ]
  },
  {
   "cell_type": "code",
   "execution_count": 138,
   "id": "7f8a3d2a",
   "metadata": {},
   "outputs": [],
   "source": [
    "lg_model_coefficient_list=lg_model.coef_.tolist()"
   ]
  },
  {
   "cell_type": "code",
   "execution_count": 139,
   "id": "76f3ddfc",
   "metadata": {
    "scrolled": true
   },
   "outputs": [],
   "source": [
    "lg_model_coefficient_list=\\\n",
    "[coefficient for sublist in lg_model_coefficient_list for coefficient in sublist]"
   ]
  },
  {
   "cell_type": "code",
   "execution_count": 140,
   "id": "24ca029c",
   "metadata": {},
   "outputs": [
    {
     "data": {
      "text/plain": [
       "[-0.022354796436679137,\n",
       " 0.002502725571818806,\n",
       " 0.016980151521937093,\n",
       " -0.004215267016719248,\n",
       " -0.026015108442889748,\n",
       " 0.0067503470000072055,\n",
       " 0.018082743231601216,\n",
       " 0.008338924919439144,\n",
       " -0.022454170514301156,\n",
       " -0.009026896992614079,\n",
       " -0.0023247043876876324,\n",
       " 5.251897587361286e-05,\n",
       " 0.0018057449272239634,\n",
       " -0.019207824370284118,\n",
       " 0.03461899378128166,\n",
       " 0.04715875521210339,\n",
       " 0.007648062288027122,\n",
       " -0.03446503255462918,\n",
       " -0.021923436095384188,\n",
       " -0.0005059313855099721,\n",
       " 0.015591744650145404,\n",
       " 0.015769371897845667,\n",
       " 0.004199480954191455,\n",
       " 0.0042027455668367355,\n",
       " 0.010750104497523626]"
      ]
     },
     "execution_count": 140,
     "metadata": {},
     "output_type": "execute_result"
    }
   ],
   "source": [
    "lg_model_coefficient_list"
   ]
  },
  {
   "cell_type": "code",
   "execution_count": 141,
   "id": "b3bd559d",
   "metadata": {},
   "outputs": [
    {
     "data": {
      "text/plain": [
       "25"
      ]
     },
     "execution_count": 141,
     "metadata": {},
     "output_type": "execute_result"
    }
   ],
   "source": [
    "len(lg_model_coefficient_list)"
   ]
  },
  {
   "cell_type": "code",
   "execution_count": 142,
   "id": "671a554f",
   "metadata": {},
   "outputs": [],
   "source": [
    "features_and_coefficients=list(zip(X.columns.to_list(),lg_model_coefficient_list))\n",
    "\n",
    "\n",
    "features_and_coefficients_df=pd.DataFrame({'features':X.columns.to_list(),\\\n",
    "                                          'coeffient':lg_model_coefficient_list})"
   ]
  },
  {
   "cell_type": "code",
   "execution_count": 143,
   "id": "d92c124a",
   "metadata": {},
   "outputs": [
    {
     "data": {
      "text/html": [
       "<div>\n",
       "<style scoped>\n",
       "    .dataframe tbody tr th:only-of-type {\n",
       "        vertical-align: middle;\n",
       "    }\n",
       "\n",
       "    .dataframe tbody tr th {\n",
       "        vertical-align: top;\n",
       "    }\n",
       "\n",
       "    .dataframe thead th {\n",
       "        text-align: right;\n",
       "    }\n",
       "</style>\n",
       "<table border=\"1\" class=\"dataframe\">\n",
       "  <thead>\n",
       "    <tr style=\"text-align: right;\">\n",
       "      <th></th>\n",
       "      <th>features</th>\n",
       "      <th>coeffient</th>\n",
       "    </tr>\n",
       "  </thead>\n",
       "  <tbody>\n",
       "    <tr>\n",
       "      <th>0</th>\n",
       "      <td>weight</td>\n",
       "      <td>-0.022355</td>\n",
       "    </tr>\n",
       "    <tr>\n",
       "      <th>1</th>\n",
       "      <td>videoNumber</td>\n",
       "      <td>0.002503</td>\n",
       "    </tr>\n",
       "    <tr>\n",
       "      <th>2</th>\n",
       "      <td>pictureNumber</td>\n",
       "      <td>0.016980</td>\n",
       "    </tr>\n",
       "    <tr>\n",
       "      <th>3</th>\n",
       "      <td>headline_len</td>\n",
       "      <td>-0.004215</td>\n",
       "    </tr>\n",
       "    <tr>\n",
       "      <th>4</th>\n",
       "      <td>has_exclaimation</td>\n",
       "      <td>-0.026015</td>\n",
       "    </tr>\n",
       "    <tr>\n",
       "      <th>5</th>\n",
       "      <td>timespans</td>\n",
       "      <td>0.006750</td>\n",
       "    </tr>\n",
       "    <tr>\n",
       "      <th>6</th>\n",
       "      <td>Day_of_Week</td>\n",
       "      <td>0.018083</td>\n",
       "    </tr>\n",
       "    <tr>\n",
       "      <th>7</th>\n",
       "      <td>Target_Encoding_Day_of_Week</td>\n",
       "      <td>0.008339</td>\n",
       "    </tr>\n",
       "    <tr>\n",
       "      <th>8</th>\n",
       "      <td>Target_Encoding_Timespan</td>\n",
       "      <td>-0.022454</td>\n",
       "    </tr>\n",
       "    <tr>\n",
       "      <th>9</th>\n",
       "      <td>Target_Encoding_articleType</td>\n",
       "      <td>-0.009027</td>\n",
       "    </tr>\n",
       "    <tr>\n",
       "      <th>10</th>\n",
       "      <td>Target_Encoding_paperId</td>\n",
       "      <td>-0.002325</td>\n",
       "    </tr>\n",
       "    <tr>\n",
       "      <th>11</th>\n",
       "      <td>Target_Encoding_providerId</td>\n",
       "      <td>0.000053</td>\n",
       "    </tr>\n",
       "    <tr>\n",
       "      <th>12</th>\n",
       "      <td>Target_Encoding_instantNews</td>\n",
       "      <td>0.001806</td>\n",
       "    </tr>\n",
       "    <tr>\n",
       "      <th>13</th>\n",
       "      <td>Target_Encoding_categoryId</td>\n",
       "      <td>-0.019208</td>\n",
       "    </tr>\n",
       "    <tr>\n",
       "      <th>14</th>\n",
       "      <td>Target_Encoding_upperCategoryId</td>\n",
       "      <td>0.034619</td>\n",
       "    </tr>\n",
       "    <tr>\n",
       "      <th>15</th>\n",
       "      <td>Target_Encoding_topPush</td>\n",
       "      <td>0.047159</td>\n",
       "    </tr>\n",
       "    <tr>\n",
       "      <th>16</th>\n",
       "      <td>Target_Encoding_documentType</td>\n",
       "      <td>0.007648</td>\n",
       "    </tr>\n",
       "    <tr>\n",
       "      <th>17</th>\n",
       "      <td>Target_Encoding_choice</td>\n",
       "      <td>-0.034465</td>\n",
       "    </tr>\n",
       "    <tr>\n",
       "      <th>18</th>\n",
       "      <td>Target_Encoding_reporter_ne_count</td>\n",
       "      <td>-0.021923</td>\n",
       "    </tr>\n",
       "    <tr>\n",
       "      <th>19</th>\n",
       "      <td>Target_Encoding_reporter_NE</td>\n",
       "      <td>-0.000506</td>\n",
       "    </tr>\n",
       "    <tr>\n",
       "      <th>20</th>\n",
       "      <td>mean_similarity</td>\n",
       "      <td>0.015592</td>\n",
       "    </tr>\n",
       "    <tr>\n",
       "      <th>21</th>\n",
       "      <td>similarity_sum</td>\n",
       "      <td>0.015769</td>\n",
       "    </tr>\n",
       "    <tr>\n",
       "      <th>22</th>\n",
       "      <td>mean_pv</td>\n",
       "      <td>0.004199</td>\n",
       "    </tr>\n",
       "    <tr>\n",
       "      <th>23</th>\n",
       "      <td>pv_sum</td>\n",
       "      <td>0.004203</td>\n",
       "    </tr>\n",
       "    <tr>\n",
       "      <th>24</th>\n",
       "      <td>reporter_ne_count</td>\n",
       "      <td>0.010750</td>\n",
       "    </tr>\n",
       "  </tbody>\n",
       "</table>\n",
       "</div>"
      ],
      "text/plain": [
       "                             features  coeffient\n",
       "0                              weight  -0.022355\n",
       "1                         videoNumber   0.002503\n",
       "2                       pictureNumber   0.016980\n",
       "3                        headline_len  -0.004215\n",
       "4                    has_exclaimation  -0.026015\n",
       "5                           timespans   0.006750\n",
       "6                         Day_of_Week   0.018083\n",
       "7         Target_Encoding_Day_of_Week   0.008339\n",
       "8            Target_Encoding_Timespan  -0.022454\n",
       "9         Target_Encoding_articleType  -0.009027\n",
       "10            Target_Encoding_paperId  -0.002325\n",
       "11         Target_Encoding_providerId   0.000053\n",
       "12        Target_Encoding_instantNews   0.001806\n",
       "13         Target_Encoding_categoryId  -0.019208\n",
       "14    Target_Encoding_upperCategoryId   0.034619\n",
       "15            Target_Encoding_topPush   0.047159\n",
       "16       Target_Encoding_documentType   0.007648\n",
       "17             Target_Encoding_choice  -0.034465\n",
       "18  Target_Encoding_reporter_ne_count  -0.021923\n",
       "19        Target_Encoding_reporter_NE  -0.000506\n",
       "20                    mean_similarity   0.015592\n",
       "21                     similarity_sum   0.015769\n",
       "22                            mean_pv   0.004199\n",
       "23                             pv_sum   0.004203\n",
       "24                  reporter_ne_count   0.010750"
      ]
     },
     "execution_count": 143,
     "metadata": {},
     "output_type": "execute_result"
    }
   ],
   "source": [
    "features_and_coefficients_df"
   ]
  },
  {
   "cell_type": "code",
   "execution_count": 144,
   "id": "d34312ca",
   "metadata": {},
   "outputs": [
    {
     "name": "stdout",
     "output_type": "stream",
     "text": [
      "<class 'numpy.ndarray'>\n",
      "<class 'numpy.ndarray'>\n"
     ]
    }
   ],
   "source": [
    "print(type(X_train))\n",
    "print(type(Y_train))"
   ]
  },
  {
   "cell_type": "code",
   "execution_count": 145,
   "id": "b346336b",
   "metadata": {},
   "outputs": [
    {
     "data": {
      "text/plain": [
       "0.5127865125970827"
      ]
     },
     "execution_count": 145,
     "metadata": {},
     "output_type": "execute_result"
    }
   ],
   "source": [
    "score=lg_model.score(X_train,Y_train)\n",
    "score"
   ]
  },
  {
   "cell_type": "code",
   "execution_count": 146,
   "id": "747f2be5",
   "metadata": {},
   "outputs": [
    {
     "name": "stdout",
     "output_type": "stream",
     "text": [
      "Y_train:\n",
      "[0 0 1 ... 1 0 0]\n",
      "\n",
      "lg_predictions:\n",
      "[1 1 0 ... 0 0 0]\n",
      "\n"
     ]
    }
   ],
   "source": [
    "from sklearn.metrics import mean_squared_error\n",
    "\n",
    "# mean_squared_error(Y_train,lg_predictions)\n",
    "print(f\"Y_train:\\n{Y_train}\\n\")\n",
    "print(f\"lg_predictions:\\n{lg_predictions}\\n\")\n",
    "# print(mean_squared_error(Y_train, lg_predictions))"
   ]
  },
  {
   "cell_type": "markdown",
   "id": "215292a1",
   "metadata": {},
   "source": [
    "## five fold cross validation （NO FITTING before cv as cv itself will take care of training）"
   ]
  },
  {
   "cell_type": "markdown",
   "id": "4932126b",
   "metadata": {},
   "source": [
    "### 以下的 score 是用r2，適合 regressio，現在改 classifcation，因此不用"
   ]
  },
  {
   "cell_type": "code",
   "execution_count": 147,
   "id": "0b1be7a4",
   "metadata": {},
   "outputs": [],
   "source": [
    "from sklearn.model_selection import KFold\n",
    "from sklearn.model_selection import StratifiedKFold #8/5 新增\n",
    "from sklearn.model_selection import cross_val_score\n",
    "\n",
    "# folds=KFold(n_splits=5,shuffle=True,random_state=0)\n",
    "# scores=cross_val_score=cross_val_score(lg_model,X_train,Y_train,scoring='r2',cv=folds)\n",
    "\n",
    "# scores"
   ]
  },
  {
   "cell_type": "markdown",
   "id": "1e94b3bc",
   "metadata": {},
   "source": [
    "## RandomForestClassification (totally CG-generated)"
   ]
  },
  {
   "cell_type": "code",
   "execution_count": 148,
   "id": "88883b67",
   "metadata": {},
   "outputs": [],
   "source": [
    "from sklearn.ensemble import RandomForestClassifier\n",
    "import sklearn.metrics\n",
    "from sklearn.model_selection import cross_val_score"
   ]
  },
  {
   "cell_type": "markdown",
   "id": "0cee2a55",
   "metadata": {},
   "source": [
    "### 無 cv 的 RF"
   ]
  },
  {
   "cell_type": "code",
   "execution_count": 149,
   "id": "8ef129be",
   "metadata": {},
   "outputs": [],
   "source": [
    "# Initialize the RandomForestClassifier model\n",
    "rf_model = RandomForestClassifier\\\n",
    "(n_estimators=100, random_state=42,max_depth=8)#這個不會拿去 fit\n",
    "\n",
    "rf_model_no_cv = RandomForestClassifier\\\n",
    "(n_estimators=100, random_state=42,max_depth=8)\n",
    "\n",
    "rf_model_for_cv = RandomForestClassifier\\\n",
    "(n_estimators=100, random_state=42,max_depth=8)\n",
    "\n",
    "# Fit the model\n",
    "rf_model_no_cv.fit(X_train, Y_train)\n",
    "\n",
    "# Predict on the training set and validation set\n",
    "Y_train_pred_no_cv = rf_model_no_cv.predict(X_train)\n",
    "Y_val_pred_no_cv = rf_model_no_cv.predict(X_val)"
   ]
  },
  {
   "cell_type": "code",
   "execution_count": 150,
   "id": "76cf047f",
   "metadata": {},
   "outputs": [
    {
     "name": "stdout",
     "output_type": "stream",
     "text": [
      "訓練資料上的 classification_report:\n",
      "              precision    recall  f1-score   support\n",
      "\n",
      "           0       0.64      0.78      0.70      8016\n",
      "           1       0.70      0.55      0.61      7821\n",
      "\n",
      "    accuracy                           0.66     15837\n",
      "   macro avg       0.67      0.66      0.66     15837\n",
      "weighted avg       0.67      0.66      0.66     15837\n",
      "\n",
      "\n",
      "測試資料上的 classification_report:\n",
      "              precision    recall  f1-score   support\n",
      "\n",
      "           0       0.49      0.60      0.54      2642\n",
      "           1       0.48      0.36      0.41      2637\n",
      "\n",
      "    accuracy                           0.48      5279\n",
      "   macro avg       0.48      0.48      0.48      5279\n",
      "weighted avg       0.48      0.48      0.48      5279\n",
      "\n"
     ]
    }
   ],
   "source": [
    "print(f\"訓練資料上的 classification_report:\\n{classification_report(Y_train, Y_train_pred_no_cv)}\\n\")\n",
    "print(f\"測試資料上的 classification_report:\\n{classification_report(Y_val, Y_val_pred_no_cv)}\")"
   ]
  },
  {
   "cell_type": "markdown",
   "id": "8ce970a4",
   "metadata": {},
   "source": [
    "### 有 cv 的 RF"
   ]
  },
  {
   "cell_type": "code",
   "execution_count": 151,
   "id": "cfbb4dcf",
   "metadata": {
    "scrolled": true
   },
   "outputs": [
    {
     "name": "stdout",
     "output_type": "stream",
     "text": [
      "訓練資料上的 cv_F1:\n",
      "[0.49076192 0.49418385 0.49471729 0.50392036 0.50477608]\n",
      "\n",
      "測試資料上的 cv_F1:\n",
      "[0.72348386 0.69513449 0.71015242 0.70672921 0.71321073]\n",
      "\n"
     ]
    }
   ],
   "source": [
    "# Cross-Validation\n",
    "\n",
    "train_cv_F1=cross_val_score\\\n",
    "(rf_model_for_cv,X_train,Y_train,cv=5,scoring='f1_weighted')#另一選擇是f1_macro\n",
    "print(f\"訓練資料上的 cv_F1:\\n{train_cv_F1}\\n\")\n",
    "val_cv_F1=cross_val_score(rf_model_for_cv,X_val,Y_val,cv=5,scoring='f1_weighted')\n",
    "print(f\"測試資料上的 cv_F1:\\n{val_cv_F1}\\n\")"
   ]
  },
  {
   "cell_type": "markdown",
   "id": "bed7123a",
   "metadata": {},
   "source": [
    "### Save the RF model （8/5尚未成功）"
   ]
  },
  {
   "cell_type": "code",
   "execution_count": 152,
   "id": "a3a86c3b",
   "metadata": {},
   "outputs": [],
   "source": [
    "import pickle as pk"
   ]
  },
  {
   "cell_type": "markdown",
   "id": "6930db78",
   "metadata": {},
   "source": [
    "## 8/5 RF through grid search"
   ]
  },
  {
   "cell_type": "code",
   "execution_count": 172,
   "id": "32f3087d",
   "metadata": {},
   "outputs": [
    {
     "data": {
      "text/plain": [
       "GridSearchCV(cv=5,\n",
       "             estimator=RandomForestClassifier(max_depth=8, random_state=42),\n",
       "             param_grid={'max_depth': [8, 10], 'n_estimators': [100, 200],\n",
       "                         'random_state': [42]},\n",
       "             scoring='f1_weighted')"
      ]
     },
     "execution_count": 172,
     "metadata": {},
     "output_type": "execute_result"
    }
   ],
   "source": [
    "import joblib  # To save and load the model\n",
    "\n",
    "# Define the parameter grid\n",
    "rf_param_grid = {\n",
    "    'n_estimators': [100, 200],\n",
    "    'max_depth': [8, 10],\n",
    "    'random_state': [42]\n",
    "}\n",
    "\n",
    "# Initialize the RandomForestClassifier model\n",
    "grid_search_rf_model = RandomForestClassifier()\n",
    "\n",
    "# Use GridSearchCV to find the best model\n",
    "grid_search_rf = GridSearchCV(estimator=rf_model, param_grid=rf_param_grid, cv=5, scoring='f1_weighted')\n",
    "grid_search_rf.fit(X_train, Y_train)"
   ]
  },
  {
   "cell_type": "markdown",
   "id": "1c3841df",
   "metadata": {},
   "source": [
    "## Grid-searched best_model has come out. Below it's to be saved. "
   ]
  },
  {
   "cell_type": "code",
   "execution_count": 176,
   "id": "03bcdb72",
   "metadata": {},
   "outputs": [
    {
     "name": "stdout",
     "output_type": "stream",
     "text": [
      "rf Best model parameters: {'max_depth': 10, 'n_estimators': 100, 'random_state': 42}\n",
      "              precision    recall  f1-score   support\n",
      "\n",
      "           0       0.49      0.58      0.53      2642\n",
      "           1       0.49      0.40      0.44      2637\n",
      "\n",
      "    accuracy                           0.49      5279\n",
      "   macro avg       0.49      0.49      0.49      5279\n",
      "weighted avg       0.49      0.49      0.49      5279\n",
      "\n"
     ]
    }
   ],
   "source": [
    "# Best model\n",
    "rf_best_model = grid_search_rf.best_estimator_\n",
    "print(\"rf Best model parameters:\", grid_search_rf.best_params_)\n",
    "\n",
    "# Save the best model\n",
    "joblib.dump(rf_best_model, 'rf_best_rf_model.pkl')\n",
    "\n",
    "# Evaluate the best model on the validation set\n",
    "Y_val_pred = rf_best_model.predict(X_val)\n",
    "print(classification_report(Y_val, Y_val_pred))"
   ]
  },
  {
   "cell_type": "code",
   "execution_count": null,
   "id": "b43cba36",
   "metadata": {},
   "outputs": [],
   "source": []
  },
  {
   "cell_type": "code",
   "execution_count": null,
   "id": "d7cc9dbf",
   "metadata": {},
   "outputs": [],
   "source": []
  },
  {
   "cell_type": "code",
   "execution_count": 153,
   "id": "447c5d37",
   "metadata": {},
   "outputs": [],
   "source": [
    "# ## rf = RandomForestRegresor()\n",
    "# ## rf.fit(X, y)\n",
    "\n",
    "# with open('C:\\Users\\USER\\Desktop\\（桌機）CUDA 跑兩萬\\rf_model', 'wb','w',encoding='utf-8') as f:\n",
    "#     Pickle.dump(rf, f)\n",
    "\n",
    "\n",
    "# # # in your prediction file                                                                                                                                                                                                           \n",
    "\n",
    "# # with open('path/to/file', 'rb') as f:\n",
    "# #     rf = Pickle.load(f)\n",
    "\n",
    "\n",
    "# # preds = rf.predict(new_X)"
   ]
  },
  {
   "cell_type": "markdown",
   "id": "ad2980fc",
   "metadata": {},
   "source": [
    "#### RF feature importance"
   ]
  },
  {
   "cell_type": "code",
   "execution_count": 154,
   "id": "2a7c926b",
   "metadata": {},
   "outputs": [
    {
     "name": "stdout",
     "output_type": "stream",
     "text": [
      "    index                            Feature  Importance\n",
      "0      19        Target_Encoding_reporter_NE    0.123894\n",
      "1      23                             pv_sum    0.120255\n",
      "2      22                            mean_pv    0.110470\n",
      "3       3                       headline_len    0.085880\n",
      "4      21                     similarity_sum    0.079472\n",
      "5      20                    mean_similarity    0.068746\n",
      "6      13         Target_Encoding_categoryId    0.054516\n",
      "7       5                          timespans    0.048693\n",
      "8       2                      pictureNumber    0.045710\n",
      "9       8           Target_Encoding_Timespan    0.044459\n",
      "10      7        Target_Encoding_Day_of_Week    0.039417\n",
      "11      6                        Day_of_Week    0.038083\n",
      "12     24                  reporter_ne_count    0.025551\n",
      "13     18  Target_Encoding_reporter_ne_count    0.024057\n",
      "14     11         Target_Encoding_providerId    0.012867\n",
      "15     10            Target_Encoding_paperId    0.012729\n",
      "16      1                        videoNumber    0.011500\n",
      "17      9        Target_Encoding_articleType    0.010775\n",
      "18     12        Target_Encoding_instantNews    0.010567\n",
      "19      4                   has_exclaimation    0.008317\n",
      "20     16       Target_Encoding_documentType    0.006377\n",
      "21     17             Target_Encoding_choice    0.005751\n",
      "22      0                             weight    0.004173\n",
      "23     14    Target_Encoding_upperCategoryId    0.003991\n",
      "24     15            Target_Encoding_topPush    0.003750\n"
     ]
    }
   ],
   "source": [
    "# Feature importance\n",
    "feature_importances = rf_model_no_cv.feature_importances_\n",
    "# features = X_train.columns\n",
    "features=X.columns\n",
    "importance_df = pd.DataFrame\\\n",
    "({'Feature': features, 'Importance': feature_importances})\n",
    "importance_df = importance_df.sort_values(by='Importance', ascending=False).reset_index()\n",
    "print(importance_df)\n",
    "\n",
    "#Negative r2 suggests overfitting from a small dataset or noise. \n",
    "#When it happens, make sure that this doesn't happen with the r2 of training data. \n",
    "#=>By leaving on 5/14, the r2 stays below zero with depths trimmed to 8. "
   ]
  },
  {
   "cell_type": "markdown",
   "id": "a9e54595",
   "metadata": {},
   "source": [
    "### Optimize RF parameters"
   ]
  },
  {
   "cell_type": "code",
   "execution_count": 155,
   "id": "1a6bc585",
   "metadata": {},
   "outputs": [],
   "source": [
    "# ## 自動找出不同depths 的 train, val, cross_validation_train_mean\n",
    "\n",
    "# def rf_depth_estimator(k):\n",
    "#     train_mse_list=[]\n",
    "#     val_mse_list=[]\n",
    "#     for i in range(1,k):\n",
    "#         rf_model=RandomForestClassifier(n_estimators=100,random_state=42,min_depth=i)\n",
    "#         rf_model.fit(X_train, Y_train)\n",
    "\n",
    "#         Y_train_pred=rf_model.predict(X_train)\n",
    "#         Y_val_pred=rf_model.predict(X_val)\n",
    "\n",
    "#         train_mse=mean_squared_error(Y_train,Y_train_pred)\n",
    "#         val_mse=mean_squared_error(Y_val,Y_val_pred)\n",
    "\n",
    "#         train_r2=r2_score(Y_train,Y_train_pred)\n",
    "#         val_r2=r2_score(Y_val,Y_val_pred)\n",
    "\n",
    "#         train_mse_list.append(train_mse)\n",
    "#         val_mse_list.append(val_mse)\n",
    "        \n",
    "#         print(\"第\",i,\"層\")\n",
    "#         print(\"train_r2:\",train_r2)\n",
    "#         print(\"val_r2:\",val_r2)\n",
    "#         print(\"train_MSE:\",train_mse)\n",
    "#         print(\"val_MSE:\",val_mse,\"\\n\")\n",
    "        \n",
    "#         try: \n",
    "\n",
    "#             if (train_mse_list[i-1] < train_mse_list[i-2]) and (val_mse_list[i-1] > val_mse_list[i-2]):\n",
    "#                 print(f\"第{i}層開始 overfitting 了，取到 {i-1} 層\")\n",
    "#                 print(\"train_r2:\",train_r2)\n",
    "#                 print(\"val_r2:\",val_r2)\n",
    "#                 print(\"train_MSE:\",train_mse)\n",
    "#                 print(\"val_MSE:\",val_mse)\n",
    "\n",
    "#                 break\n",
    "\n",
    "#         except:\n",
    "#             continue"
   ]
  },
  {
   "cell_type": "markdown",
   "id": "e88f09c3",
   "metadata": {},
   "source": [
    "## XGBoost"
   ]
  },
  {
   "cell_type": "code",
   "execution_count": 156,
   "id": "322c8844",
   "metadata": {},
   "outputs": [],
   "source": [
    "import xgboost as xgb\n",
    "from sklearn.model_selection import RepeatedKFold\n",
    "from sklearn.model_selection import GridSearchCV"
   ]
  },
  {
   "cell_type": "code",
   "execution_count": 157,
   "id": "f6624c01",
   "metadata": {},
   "outputs": [
    {
     "data": {
      "text/plain": [
       "\"cf:\\n# convert feature to category type\\ncars['color'] = cars['color'].astype('category')\\n\\n# save new version of category codes\\ncars['color'] = cars['color'].cat.codes\\n\\n# print to see transformation\\nprint(cars['color'].value_counts()[:5])\\n# #OUTPUT\\n# 2     2015\\n# 18    1931\\n# 8     1506\\n# 15    1503\\n# 3      869\\n\\n\""
      ]
     },
     "execution_count": 157,
     "metadata": {},
     "output_type": "execute_result"
    }
   ],
   "source": [
    "# from sklearn.preprocessing import LabelEncoder\n",
    "\n",
    "\"\"\"cf:\n",
    "# convert feature to category type\n",
    "cars['color'] = cars['color'].astype('category')\n",
    "\n",
    "# save new version of category codes\n",
    "cars['color'] = cars['color'].cat.codes\n",
    "\n",
    "# print to see transformation\n",
    "print(cars['color'].value_counts()[:5])\n",
    "# #OUTPUT\n",
    "# 2     2015\n",
    "# 18    1931\n",
    "# 8     1506\n",
    "# 15    1503\n",
    "# 3      869\n",
    "\n",
    "\"\"\"\n",
    "# print(Y[:10])"
   ]
  },
  {
   "cell_type": "code",
   "execution_count": 158,
   "id": "833dabec",
   "metadata": {},
   "outputs": [],
   "source": [
    "# #假如我想在 fit 前就定下某個parameter 的值：\n",
    "# #YSQ 就我想定的 \"eval_metric\" 而言，文件說它取代了 fit() 中的 \"eval_meteric\"\n",
    "# #...因此我必須在這裡就指定它？！總之，先這樣做\n",
    "\n",
    "xbg_clf=xgb.XGBClassifier()\n",
    "\n",
    "#6/14 eval_metric 好像會自動設\n",
    "#（Evaluation metrics for validation data,...\n",
    "#a default metric will be assigned according to objective...\n",
    "#...(rmse for regression\\\n",
    "#, and logloss for classification, \\\n",
    "# mean average precision for rank:map, etc.)）\n",
    "\n",
    "params={'n_estimators':range(80,200,4),'max_depth':range(2,15),\\\n",
    "'learning_rate':np.linspace(0.01,2,20)}"
   ]
  },
  {
   "cell_type": "code",
   "execution_count": 159,
   "id": "ee7a3a49",
   "metadata": {},
   "outputs": [
    {
     "data": {
      "text/plain": [
       "GridSearchCV(cv=3,\n",
       "             estimator=XGBClassifier(base_score=None, booster=None,\n",
       "                                     callbacks=None, colsample_bylevel=None,\n",
       "                                     colsample_bynode=None,\n",
       "                                     colsample_bytree=None, device=None,\n",
       "                                     early_stopping_rounds=None,\n",
       "                                     enable_categorical=False, eval_metric=None,\n",
       "                                     feature_types=None, gamma=None,\n",
       "                                     grow_policy=None, importance_type=None,\n",
       "                                     interaction_constraints=None,\n",
       "                                     learning_rate=None,...\n",
       "                                     random_state=None, ...),\n",
       "             n_jobs=-1,\n",
       "             param_grid={'learning_rate': array([0.01      , 0.11473684, 0.21947368, 0.32421053, 0.42894737,\n",
       "       0.53368421, 0.63842105, 0.74315789, 0.84789474, 0.95263158,\n",
       "       1.05736842, 1.16210526, 1.26684211, 1.37157895, 1.47631579,\n",
       "       1.58105263, 1.68578947, 1.79052632, 1.89526316, 2.        ]),\n",
       "                         'max_depth': range(2, 15),\n",
       "                         'n_estimators': range(80, 200, 4)},\n",
       "             scoring='f1_weighted')"
      ]
     },
     "execution_count": 159,
     "metadata": {},
     "output_type": "execute_result"
    }
   ],
   "source": [
    "grid_search=GridSearchCV(xbg_clf,param_grid=params,cv=3,scoring='f1_weighted',n_jobs=-1)\n",
    "grid_search.fit(X_train,Y_train.ravel())"
   ]
  },
  {
   "cell_type": "code",
   "execution_count": 160,
   "id": "7a54bd77",
   "metadata": {},
   "outputs": [],
   "source": [
    "best_estimator=grid_search.best_estimator_"
   ]
  },
  {
   "cell_type": "code",
   "execution_count": 161,
   "id": "34180945",
   "metadata": {},
   "outputs": [],
   "source": [
    "# print(best_estimator)"
   ]
  },
  {
   "cell_type": "markdown",
   "id": "b3f91281",
   "metadata": {},
   "source": [
    "## 6/19 Save the best estimator"
   ]
  },
  {
   "cell_type": "code",
   "execution_count": 162,
   "id": "8c22cf36",
   "metadata": {},
   "outputs": [
    {
     "name": "stderr",
     "output_type": "stream",
     "text": [
      "C:\\ProgramData\\Anaconda3\\lib\\site-packages\\xgboost\\core.py:160: UserWarning: [12:13:40] WARNING: C:\\buildkite-agent\\builds\\buildkite-windows-cpu-autoscaling-group-i-0b3782d1791676daf-1\\xgboost\\xgboost-ci-windows\\src\\c_api\\c_api.cc:1240: Saving into deprecated binary model format, please consider using `json` or `ubj`. Model format will default to JSON in XGBoost 2.2 if not specified.\n",
      "  warnings.warn(smsg, UserWarning)\n"
     ]
    }
   ],
   "source": [
    "\"\"\"cf:\n",
    "# save in JSON format\n",
    "model.save_model(\"model_sklearn.json\")\n",
    "# save in text format\n",
    "model.save_model(\"model_sklearn.txt\")\n",
    "\"\"\"\n",
    "\n",
    "best_estimator.save_model('0805best_estimator.json')\n",
    "best_estimator.save_model('0805best_estimator.txt')"
   ]
  },
  {
   "cell_type": "markdown",
   "id": "2c9f59cc",
   "metadata": {},
   "source": [
    "### 8/2 grid_search 無須再做一次，直接load 0731版的 best estimator"
   ]
  },
  {
   "cell_type": "code",
   "execution_count": 163,
   "id": "44bd3d93",
   "metadata": {},
   "outputs": [],
   "source": [
    "best_estimator = xgb.XGBClassifier()\n",
    "best_estimator.load_model(\"0805best_estimator.json\")"
   ]
  },
  {
   "cell_type": "markdown",
   "id": "f09c71f3",
   "metadata": {},
   "source": [
    "#### Xgbbost：無 cv 版"
   ]
  },
  {
   "cell_type": "code",
   "execution_count": 164,
   "id": "b39b10f0",
   "metadata": {},
   "outputs": [],
   "source": [
    "Y_train_pred=best_estimator.predict(X_train)\n",
    "Y_val_pred=best_estimator.predict(X_val)"
   ]
  },
  {
   "cell_type": "code",
   "execution_count": 165,
   "id": "09499e84",
   "metadata": {},
   "outputs": [],
   "source": [
    "train_cv_F1=cross_val_score(best_estimator,X_train,Y_train,cv=5,scoring='f1_weighted')\n",
    "val_cv_F1=cross_val_score(best_estimator,X_val,Y_val,cv=5,scoring='f1_weighted')"
   ]
  },
  {
   "cell_type": "code",
   "execution_count": 166,
   "id": "0ce86daf",
   "metadata": {},
   "outputs": [
    {
     "name": "stdout",
     "output_type": "stream",
     "text": [
      "訓練資料上XGBoost的 cross-val f1:\n",
      "[0.50507801 0.49621574 0.49973885 0.49926816 0.50856165]\n",
      "測試資料上XGBoost的 cross-val f1:\n",
      "[0.69092868 0.70453592 0.68366446 0.69410163 0.67292407]\n"
     ]
    }
   ],
   "source": [
    "print(f\"訓練資料上XGBoost的 cross-val f1:\\n{train_cv_F1}\")\n",
    "print(f\"測試資料上XGBoost的 cross-val f1:\\n{val_cv_F1}\")"
   ]
  },
  {
   "cell_type": "code",
   "execution_count": 167,
   "id": "6db2b3f7",
   "metadata": {},
   "outputs": [
    {
     "name": "stdout",
     "output_type": "stream",
     "text": [
      "XGB 測試資料的 classification report\n",
      "('              precision    recall  f1-score   support\\n'\n",
      " '\\n'\n",
      " '           0       0.48      0.49      0.49      2642\\n'\n",
      " '           1       0.47      0.46      0.47      2637\\n'\n",
      " '\\n'\n",
      " '    accuracy                           0.48      5279\\n'\n",
      " '   macro avg       0.48      0.48      0.48      5279\\n'\n",
      " 'weighted avg       0.48      0.48      0.48      5279\\n')\n"
     ]
    }
   ],
   "source": [
    "import pprint\n",
    "\n",
    "# print(f\"測試資料的 classification report:{classification_report(Y_val, Y_val_pred)}\")\n",
    "print(\"XGB 測試資料的 classification report\")\n",
    "\n",
    "pprint.pp(classification_report(Y_val, Y_val_pred))"
   ]
  },
  {
   "cell_type": "markdown",
   "id": "340eda62",
   "metadata": {},
   "source": [
    "## XGB 細部表現"
   ]
  },
  {
   "cell_type": "code",
   "execution_count": 168,
   "id": "77bfbd61",
   "metadata": {},
   "outputs": [],
   "source": [
    "# from sklearn.metrics import confusion_matrix \n",
    "\n",
    "\n",
    "# xgb_cm = confusion_matrix(Y_val, Y_val_pred)\n",
    "# xgb_labels = best_estimator.classes_"
   ]
  },
  {
   "cell_type": "code",
   "execution_count": 169,
   "id": "41f0a66e",
   "metadata": {},
   "outputs": [],
   "source": [
    "# plt.figure(figsize=(10,7))\n",
    "\n",
    "# ax= plt.subplot()\n",
    "# sns.heatmap(xgb_cm, annot=True, ax = ax,fmt=\"d\");\n",
    "\n",
    "# #The first one is the data #Q Why the final semi-colon?\n",
    "\n",
    "# # labels, title and ticks\n",
    "# ax.set_xlabel('Predicted labels');#Take the second argument of confusion_matrix() as x values\n",
    "# ax.set_ylabel('True labels'); #Take the first argument of confusion_matrix() as y values\n",
    "# ax.set_title('Confusion Matrix');\n",
    "\n",
    "# # ax.yaxis.set_tick_params(rotation=360)\n",
    "# ax.xaxis.set_tick_params(rotation=90)\n",
    "\n",
    "# ax.xaxis.set_ticklabels(xgb_labels); \n",
    "# ax.yaxis.set_ticklabels(xgb_labels);"
   ]
  },
  {
   "cell_type": "code",
   "execution_count": null,
   "id": "727d70c5",
   "metadata": {},
   "outputs": [],
   "source": []
  }
 ],
 "metadata": {
  "kernelspec": {
   "display_name": "Python 3 (ipykernel)",
   "language": "python",
   "name": "python3"
  },
  "language_info": {
   "codemirror_mode": {
    "name": "ipython",
    "version": 3
   },
   "file_extension": ".py",
   "mimetype": "text/x-python",
   "name": "python",
   "nbconvert_exporter": "python",
   "pygments_lexer": "ipython3",
   "version": "3.9.13"
  }
 },
 "nbformat": 4,
 "nbformat_minor": 5
}
